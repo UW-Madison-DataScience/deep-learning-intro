{
  "cells": [
    {
      "cell_type": "code",
      "execution_count": 1,
      "metadata": {
        "colab": {},
        "colab_type": "code",
        "id": "XQIVCGsYTIWo"
      },
      "outputs": [
        {
          "name": "stderr",
          "output_type": "stream",
          "text": [
            "2024-01-23 11:50:00.506461: I tensorflow/core/util/port.cc:110] oneDNN custom operations are on. You may see slightly different numerical results due to floating-point round-off errors from different computation orders. To turn them off, set the environment variable `TF_ENABLE_ONEDNN_OPTS=0`.\n",
            "2024-01-23 11:50:00.508086: I tensorflow/tsl/cuda/cudart_stub.cc:28] Could not find cuda drivers on your machine, GPU will not be used.\n",
            "2024-01-23 11:50:00.542546: I tensorflow/tsl/cuda/cudart_stub.cc:28] Could not find cuda drivers on your machine, GPU will not be used.\n",
            "2024-01-23 11:50:00.543882: I tensorflow/core/platform/cpu_feature_guard.cc:182] This TensorFlow binary is optimized to use available CPU instructions in performance-critical operations.\n",
            "To enable the following instructions: AVX2 AVX512F AVX512_VNNI FMA, in other operations, rebuild TensorFlow with the appropriate compiler flags.\n",
            "2024-01-23 11:50:01.179018: W tensorflow/compiler/tf2tensorrt/utils/py_utils.cc:38] TF-TRT Warning: Could not find TensorRT\n"
          ]
        }
      ],
      "source": [
        "import tensorflow.keras as keras\n",
        "import tensorflow as tf"
      ]
    },
    {
      "cell_type": "code",
      "execution_count": 2,
      "metadata": {
        "colab": {},
        "colab_type": "code",
        "id": "OKSiS6okT0sA"
      },
      "outputs": [],
      "source": [
        "def preprocess_data(X, Y):\n",
        "    \"\"\"\n",
        "    Pre-processes the data for the model\n",
        "\n",
        "        :param X: numpy.ndarray of shape (m, 32, 32, 3)\n",
        "            containing the CIFAR 10 data, where m is the\n",
        "            number of data points\n",
        "\n",
        "        :param Y: numpy.ndarray of shape (m,) containing\n",
        "            the CIFAR 10 labels for X\n",
        "\n",
        "        :returns: X_p, Y_p\n",
        "    \"\"\"\n",
        "    X_p = keras.applications.densenet.preprocess_input(X)\n",
        "\n",
        "    # encode to one-hot\n",
        "    Y_p = keras.utils.to_categorical(Y, 10)\n",
        "    return X_p, Y_p\n"
      ]
    },
    {
      "cell_type": "code",
      "execution_count": 3,
      "metadata": {
        "colab": {
          "base_uri": "https://localhost:8080/",
          "height": 751
        },
        "colab_type": "code",
        "id": "vQro04MLp8WC",
        "outputId": "2806cb57-f476-4edc-b3f3-f1a1100f8467"
      },
      "outputs": [],
      "source": [
        "CALLBACKS = []\n",
        "MODEL_PATH = 'cifar10.h5'\n",
        "optimizer = keras.optimizers.Adam()\n",
        "\n",
        "# load cifar 10\n",
        "(train_images, train_labels), (val_images, val_labels) = keras.datasets.cifar10.load_data()\n",
        "\n",
        "# extract a small sample for training and testing\n",
        "n_train = 1000\n",
        "train_images = train_images[:n_train]\n",
        "train_labels = train_labels[:n_train]\n",
        "\n",
        "n_val = 100\n",
        "val_images = val_images[:n_val]\n",
        "val_labels = val_labels[:n_val]\n",
        "\n",
        "# pre-procces data\n",
        "train_images, train_labels = preprocess_data(train_images, train_labels)\n",
        "val_images, val_labels = preprocess_data(val_images, val_labels)\n",
        "\n",
        "# input tensor\n",
        "inputs = keras.Input(shape=(32, 32, 3))\n",
        "\n",
        "# upscale layer\n",
        "upscale = keras.layers.Lambda(lambda x: tf.image.resize_with_pad(x,\n",
        "                                                                  160,\n",
        "                                                                  160,\n",
        "                                                                  method=tf.image.ResizeMethod.BILINEAR))(inputs)"
      ]
    },
    {
      "cell_type": "code",
      "execution_count": 4,
      "metadata": {},
      "outputs": [
        {
          "name": "stdout",
          "output_type": "stream",
          "text": [
            "Epoch 1/10\n",
            "32/32 [==============================] - ETA: 0s - loss: 1.9734 - accuracy: 0.3250WARNING:tensorflow:Early stopping conditioned on metric `val_acc` which is not available. Available metrics are: loss,accuracy,val_loss,val_accuracy\n",
            "32/32 [==============================] - 31s 792ms/step - loss: 1.9734 - accuracy: 0.3250 - val_loss: 1.9469 - val_accuracy: 0.4200\n",
            "Epoch 2/10\n",
            "32/32 [==============================] - ETA: 0s - loss: 1.0515 - accuracy: 0.6560WARNING:tensorflow:Early stopping conditioned on metric `val_acc` which is not available. Available metrics are: loss,accuracy,val_loss,val_accuracy\n",
            "32/32 [==============================] - 26s 803ms/step - loss: 1.0515 - accuracy: 0.6560 - val_loss: 1.1738 - val_accuracy: 0.6000\n",
            "Epoch 3/10\n",
            "32/32 [==============================] - ETA: 0s - loss: 0.7340 - accuracy: 0.7830WARNING:tensorflow:Early stopping conditioned on metric `val_acc` which is not available. Available metrics are: loss,accuracy,val_loss,val_accuracy\n",
            "32/32 [==============================] - 27s 854ms/step - loss: 0.7340 - accuracy: 0.7830 - val_loss: 0.8926 - val_accuracy: 0.6500\n",
            "Epoch 4/10\n",
            "32/32 [==============================] - ETA: 0s - loss: 0.5975 - accuracy: 0.8200WARNING:tensorflow:Early stopping conditioned on metric `val_acc` which is not available. Available metrics are: loss,accuracy,val_loss,val_accuracy\n",
            "32/32 [==============================] - 26s 813ms/step - loss: 0.5975 - accuracy: 0.8200 - val_loss: 0.6655 - val_accuracy: 0.7700\n",
            "Epoch 5/10\n",
            "32/32 [==============================] - ETA: 0s - loss: 0.4694 - accuracy: 0.8440WARNING:tensorflow:Early stopping conditioned on metric `val_acc` which is not available. Available metrics are: loss,accuracy,val_loss,val_accuracy\n",
            "32/32 [==============================] - 23s 732ms/step - loss: 0.4694 - accuracy: 0.8440 - val_loss: 0.5559 - val_accuracy: 0.8100\n",
            "Epoch 6/10\n",
            "32/32 [==============================] - ETA: 0s - loss: 0.3948 - accuracy: 0.8760WARNING:tensorflow:Early stopping conditioned on metric `val_acc` which is not available. Available metrics are: loss,accuracy,val_loss,val_accuracy\n",
            "32/32 [==============================] - 22s 700ms/step - loss: 0.3948 - accuracy: 0.8760 - val_loss: 0.5324 - val_accuracy: 0.7900\n",
            "Epoch 7/10\n",
            "32/32 [==============================] - ETA: 0s - loss: 0.3311 - accuracy: 0.9000WARNING:tensorflow:Early stopping conditioned on metric `val_acc` which is not available. Available metrics are: loss,accuracy,val_loss,val_accuracy\n",
            "32/32 [==============================] - 22s 684ms/step - loss: 0.3311 - accuracy: 0.9000 - val_loss: 0.4877 - val_accuracy: 0.8000\n",
            "Epoch 8/10\n",
            "32/32 [==============================] - ETA: 0s - loss: 0.2841 - accuracy: 0.9220WARNING:tensorflow:Early stopping conditioned on metric `val_acc` which is not available. Available metrics are: loss,accuracy,val_loss,val_accuracy\n",
            "32/32 [==============================] - 23s 725ms/step - loss: 0.2841 - accuracy: 0.9220 - val_loss: 0.4767 - val_accuracy: 0.8100\n",
            "Epoch 9/10\n",
            "32/32 [==============================] - ETA: 0s - loss: 0.2344 - accuracy: 0.9370WARNING:tensorflow:Early stopping conditioned on metric `val_acc` which is not available. Available metrics are: loss,accuracy,val_loss,val_accuracy\n",
            "32/32 [==============================] - 26s 809ms/step - loss: 0.2344 - accuracy: 0.9370 - val_loss: 0.4922 - val_accuracy: 0.8100\n",
            "Epoch 10/10\n",
            "32/32 [==============================] - ETA: 0s - loss: 0.2217 - accuracy: 0.9320WARNING:tensorflow:Early stopping conditioned on metric `val_acc` which is not available. Available metrics are: loss,accuracy,val_loss,val_accuracy\n",
            "32/32 [==============================] - 26s 805ms/step - loss: 0.2217 - accuracy: 0.9320 - val_loss: 0.4900 - val_accuracy: 0.8100\n"
          ]
        },
        {
          "data": {
            "text/plain": [
              "<keras.callbacks.History at 0x7fad24302f20>"
            ]
          },
          "execution_count": 4,
          "metadata": {},
          "output_type": "execute_result"
        }
      ],
      "source": [
        "# load base model\n",
        "base_model = keras.applications.DenseNet121(include_top=False,\n",
        "                                        weights='imagenet',\n",
        "                                        input_tensor=upscale,\n",
        "                                        input_shape=(160,160,3),\n",
        "                                        pooling='max')\n",
        "\n",
        "# set base model training off\n",
        "base_model.trainable = False\n",
        "\n",
        "# add top layers\n",
        "out = base_model.output\n",
        "out = keras.layers.Flatten()(out)\n",
        "out = keras.layers.BatchNormalization()(out)\n",
        "out = keras.layers.Dense(128, activation='relu')(out)\n",
        "out = keras.layers.Dropout(0.3)(out)\n",
        "out = keras.layers.BatchNormalization()(out)\n",
        "out = keras.layers.Dense(64, activation='relu')(out)\n",
        "out = keras.layers.Dropout(0.3)(out)\n",
        "# out = keras.layers.BatchNormalization()(out)\n",
        "# out = keras.layers.Dense(64, activation='relu')(out)\n",
        "# out = keras.layers.Dropout(0.3)(out)\n",
        "out = keras.layers.Dense(10, activation='softmax')(out)\n",
        "\n",
        "# # callbacks\n",
        "# CALLBACKS.append(keras.callbacks.ModelCheckpoint(filepath=MODEL_PATH,\n",
        "#                                               monitor='val_acc',\n",
        "#                                             #   save_best_only=True))\n",
        "\n",
        "CALLBACKS.append(keras.callbacks.EarlyStopping(monitor='val_acc',\n",
        "                                            verbose=1,\n",
        "                                            patience=5))\n",
        "\n",
        "# CALLBACKS.append(keras.callbacks.TensorBoard(log_dir='logs'))\n",
        "\n",
        "# model compile\n",
        "model = keras.models.Model(inputs=inputs, outputs=out)\n",
        "\n",
        "model.compile(optimizer=optimizer,\n",
        "              loss='categorical_crossentropy',\n",
        "              metrics=['accuracy'])\n",
        "\n",
        "\n",
        "# train\n",
        "model.fit(x=train_images,\n",
        "          y=train_labels,\n",
        "          batch_size=32,\n",
        "          epochs=10,\n",
        "          callbacks=CALLBACKS,\n",
        "          validation_data=(val_images, val_labels))"
      ]
    },
    {
      "cell_type": "markdown",
      "metadata": {
        "colab_type": "text",
        "id": "4SjW13g30OsO"
      },
      "source": [
        "Epoch 20/20\n",
        "50000/50000 [==============================] - 346s 7ms/sample - loss: 0.0614 - acc: 0.9809 - val_loss: 0.2649 - val_acc: 0.9272\n",
        "\n",
        "\n",
        "<tensorflow.python.keras.callbacks.History at 0x7f0af909ff98>\n"
      ]
    },
    {
      "cell_type": "code",
      "execution_count": 6,
      "metadata": {
        "colab": {
          "base_uri": "https://localhost:8080/",
          "height": 51
        },
        "colab_type": "code",
        "id": "-bBv1zpkn4Me",
        "outputId": "413a803c-0933-4a64-f614-c925a1dcbfea"
      },
      "outputs": [
        {
          "name": "stdout",
          "output_type": "stream",
          "text": [
            "1/1 [==============================] - 1s 1s/step - loss: 0.4900 - accuracy: 0.8100\n"
          ]
        },
        {
          "data": {
            "text/plain": [
              "[0.4900037348270416, 0.8100000023841858]"
            ]
          },
          "execution_count": 6,
          "metadata": {},
          "output_type": "execute_result"
        }
      ],
      "source": [
        "model.evaluate(val_images, val_labels, batch_size=128, verbose=1)"
      ]
    },
    {
      "cell_type": "code",
      "execution_count": null,
      "metadata": {},
      "outputs": [],
      "source": []
    }
  ],
  "metadata": {
    "accelerator": "GPU",
    "colab": {
      "name": "cifar10_transfer.ipynb",
      "provenance": []
    },
    "kernelspec": {
      "display_name": "Python 3",
      "name": "python3"
    },
    "language_info": {
      "codemirror_mode": {
        "name": "ipython",
        "version": 3
      },
      "file_extension": ".py",
      "mimetype": "text/x-python",
      "name": "python",
      "nbconvert_exporter": "python",
      "pygments_lexer": "ipython3",
      "version": "3.10.13"
    }
  },
  "nbformat": 4,
  "nbformat_minor": 0
}
