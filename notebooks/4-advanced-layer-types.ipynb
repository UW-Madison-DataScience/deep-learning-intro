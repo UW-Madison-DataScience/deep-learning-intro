{
 "cells": [
  {
   "cell_type": "markdown",
   "id": "5c487df5",
   "metadata": {},
   "source": [
    "# Advanced layer types"
   ]
  },
  {
   "cell_type": "markdown",
   "id": "8ed4d398",
   "metadata": {},
   "source": [
    "## Questions\n",
    "\n",
    "- Why do we need different types of layers?\n",
    "- What are good network designs for image data?\n",
    "- What is a convolutional layer?\n",
    "- How can we use different types of layers to prevent overfitting?\n",
    "- What is hyperparameter tuning?:::\n",
    "\n",
    "## Objectives\n",
    "\n",
    "- Understand why convolutional and pooling layers are useful for image data\n",
    "- Implement a convolutional neural network on an image dataset\n",
    "- Use a dropout layer to prevent overfitting\n",
    "- Be able to tune the hyperparameters of a Keras model:::\n",
    "\n",
    "\n",
    "## Different types of layers\n",
    "Networks are like onions: a typical neural network consists of many layers. In fact, the word *deep* in *deep learning*\n",
    "refers to the many layers that make the network deep.\n",
    "\n",
    "So far, we have seen one type of layer, namely the **fully connected**, or **dense** layer. This layer is called fully connected, because all input neurons are taken into account by each output neuron. The number of parameters that need to be learned by the network, is thus in the order of magnitude of the number of input neurons times the number of hidden neurons.\n",
    "\n",
    "However, there are many different types of layers that perform different calculations and take different inputs. In this episode we will take a look at **convolutional layers** and **dropout layers**, which are useful in the context of image data, but also in many other types of (structured) data.\n",
    "\n",
    "## 1. Formulate / Outline the problem: Image classification\n",
    "The [MLCommons Dollar Street Dataset](https://www.kaggle.com/datasets/mlcommons/the-dollar-street-dataset) is a collection of images of everyday household items from homes around the world that visually captures socioeconomic diversity of traditionally underrepresented populations. We use [a subset of the original dataset](https://zenodo.org/records/10970014) that can be used for multiclass classification with 10 categories. Let's load the data:"
   ]
  },
  {
   "cell_type": "code",
   "execution_count": null,
   "id": "1c407612",
   "metadata": {},
   "outputs": [],
   "source": [
    "import pathlib\n",
    "import numpy as np\n",
    "\n",
    "DATA_FOLDER = pathlib.Path('data/dataset_dollarstreet/') # change to location where you stored the data\n",
    "train_images = np.load(DATA_FOLDER / 'train_images.npy')\n",
    "val_images = np.load(DATA_FOLDER / 'test_images.npy')\n",
    "train_labels = np.load(DATA_FOLDER / 'train_labels.npy')\n",
    "val_labels = np.load(DATA_FOLDER / 'test_labels.npy')"
   ]
  },
  {
   "cell_type": "markdown",
   "id": "b7a257f5",
   "metadata": {},
   "source": [
    "## Callout: # A note about data provenance\n",
    "\n",
    "In an earlier version, this part of the lesson used a different example dataset.\n",
    "During [peer review](https://github.com/carpentries-lab/reviews/issues/25#issuecomment-1953271802), the decision was made to replace that dataset due to the way it had been compiled using images \"scraped\" from the internet without permission from or credit to the original creators of those images. Unfortunately, uncredited use of images is a common problem among datasets used to benchmark models for image classification.\n",
    "\n",
    "The Dollar Street dataset was chosen for use in the lesson as it contains only images [created by the Gapminder project](https://www.gapminder.org/dollar-street/about?) for the purposes of using them in the dataset.\n",
    "The original Dollar Street dataset is very large -- more than 100 GB -- with the potential to grow even bigger, so we created a subset for use in this lesson.::::::::::::::::::::::::::::::::::::::::::::::::::\n",
    "\n",
    "\n",
    "### Dollar Street 10 dataset\n",
    "\n",
    "The Dollar Street 10 dataset consists of images of 10 different classes, this is the mapping of the categories:\n",
    "\n",
    "| Category        | label |\n",
    "|-----------------|-------|\n",
    "| day bed         | 0     |\n",
    "| dishrag         | 1     |\n",
    "| plate           | 2     |\n",
    "| running shoe    | 3     |\n",
    "| soap dispenser  | 4     |\n",
    "| street sign     | 5     |\n",
    "| table lamp      | 6     |\n",
    "| tile roof       | 7     |\n",
    "| toilet seat     | 8     |\n",
    "| washing machine | 9     |\n",
    "\n",
    "::::::::::::::::::::::::::::::::::::::::::::::::::::::::: instructor\n",
    "\n",
    "### Framing the classification task\n",
    "The sample images from the dataset, shown below, provide a good opportunity to lead a discussion with learners about the nature of the images and the classification task we will be training a model to perform.\n",
    "For example, although the images can all be assumed to include the object they are labelled with, not all images are _of_ those objects i.e. the object is one of several present in the image.\n",
    "This makes the task of the classifier more difficult, as does the more culturally diverse set of objects present in the image, but both of these properties make the trained model more robust.\n",
    "After training, we can consider ourselves to be asking the model \"which of these ten objects is present in this image?\", as opposed to e.g. \"which of these ten objects is this an image of?\"\n",
    "\n",
    "::::::::::::::::::::::::::::::::::::::::::::::::::::::::::::::::::::\n",
    "\n",
    "![Sample images from the Dollar Street 10 dataset. Each image is labelled with a category, for example: 'street sign' or 'soap dispenser'](https://github.com/carpentries-lab/deep-learning-intro/raw/main/episodes/fig/04_dollar_street_10.png){alt=\"A 5 by 5 grid of 25 sample images from the dollar street 10 data-set. Each image is labelled with a category, for example: 'street sign' or 'soap dispenser'.\"}\n",
    "\n",
    "## 2. Identify inputs and outputs\n",
    "\n",
    "### Explore the data\n",
    "\n",
    "Let's do a quick exploration of the dimensions of the data:"
   ]
  },
  {
   "cell_type": "code",
   "execution_count": null,
   "id": "07e60757",
   "metadata": {},
   "outputs": [],
   "source": [
    "train_images.shape"
   ]
  },
  {
   "cell_type": "code",
   "execution_count": null,
   "id": "dec30ddf",
   "metadata": {},
   "outputs": [],
   "source": [
    "(878, 64, 64, 3)"
   ]
  },
  {
   "cell_type": "markdown",
   "id": "bafdeba4",
   "metadata": {},
   "source": [
    "The first value, `878`, is the number of training images in the dataset.\n",
    "The remainder of the shape, namely `(64, 64, 3)`, denotes\n",
    "the dimension of one image. The last value 3 is typical for color images,\n",
    "and stands for the three color channels **R**ed, **G**reen, **B**lue.\n",
    "\n",
    "## Challenge: # Number of features in Dollar Street 10\n",
    "\n",
    "How many features does one image in the Dollar Street 10 dataset have?\n",
    "\n",
    "- A. 64\n",
    "- B. 4096\n",
    "- C. 12288\n",
    "- D. 878:::\n",
    "\n",
    "\n",
    "We can find out the range of values of our input data as follows:"
   ]
  },
  {
   "cell_type": "code",
   "execution_count": null,
   "id": "f53ec281",
   "metadata": {},
   "outputs": [],
   "source": [
    "train_images.min(), train_images.max()"
   ]
  },
  {
   "cell_type": "code",
   "execution_count": null,
   "id": "7477e6dd",
   "metadata": {},
   "outputs": [],
   "source": [
    "(0, 255)"
   ]
  },
  {
   "cell_type": "markdown",
   "id": "96875cee",
   "metadata": {},
   "source": [
    "So the values of the three channels range between `0` and `255`.\n",
    "Lastly, we inspect the dimension of the labels:"
   ]
  },
  {
   "cell_type": "code",
   "execution_count": null,
   "id": "8b175d95",
   "metadata": {},
   "outputs": [],
   "source": [
    "train_labels.shape"
   ]
  },
  {
   "cell_type": "code",
   "execution_count": null,
   "id": "ac34e0cf",
   "metadata": {},
   "outputs": [],
   "source": [
    "(878,)"
   ]
  },
  {
   "cell_type": "markdown",
   "id": "5422b04f",
   "metadata": {},
   "source": [
    "So we have, for each image, a single value denoting the label.\n",
    "To find out what the possible values of these labels are:"
   ]
  },
  {
   "cell_type": "code",
   "execution_count": null,
   "id": "60689c28",
   "metadata": {},
   "outputs": [],
   "source": [
    "train_labels.min(), train_labels.max()"
   ]
  },
  {
   "cell_type": "code",
   "execution_count": null,
   "id": "ef3663cb",
   "metadata": {},
   "outputs": [],
   "source": [
    "(0, 9)"
   ]
  },
  {
   "cell_type": "markdown",
   "id": "4003f032",
   "metadata": {},
   "source": [
    "The values of the labels range between `0` and `9`, denoting 10 different classes.\n",
    "\n",
    "## 3. Prepare data\n",
    "\n",
    "The training set consists of 878 images of `64x64` pixels and 3 channels (RGB values). The RGB values are between `0` and `255`. For input of neural networks, it is better to have small input values. So we normalize our data between `0` and `1`:"
   ]
  },
  {
   "cell_type": "code",
   "execution_count": null,
   "id": "c2ae1f67",
   "metadata": {},
   "outputs": [],
   "source": [
    "train_images = train_images / 255.0\n",
    "val_images = val_images / 255.0"
   ]
  },
  {
   "cell_type": "markdown",
   "id": "bdff33a4",
   "metadata": {},
   "source": [
    "## 4. Choose a pretrained model or start building architecture from scratch\n",
    "\n",
    "### Convolutional layers\n",
    "In the previous episodes, we used 'fully connected layers' , that connected all input values of a layer to all outputs of a layer.\n",
    "This results in many connections, and thus many weights to be learned, in the network.\n",
    "Note that our input dimension is now quite high (even with small pictures of `64x64` pixels): we have 12288 features.\n",
    "\n",
    "## Challenge: Number of parameters{#parameters-exercise-1}\n",
    "\n",
    "Suppose we create a single Dense (fully connected) layer with 100 hidden units that connect to the input pixels, how many parameters does this layer have?\n",
    "\n",
    "- A. 1228800\n",
    "- B. 1228900\n",
    "- C. 100\n",
    "- D. 12288:::\n",
    "\n",
    "We can decrease the number of units in our hidden layer, but this also decreases the number of patterns our network can remember. Moreover, if we increase the image size, the number of weights will 'explode', even though the task of recognizing large images is not necessarily more difficult than the task of recognizing small images.\n",
    "\n",
    "The solution is that we make the network learn in a 'smart' way. The features that we learn should be similar both for small and large images, and similar features (e.g. edges, corners) can appear anywhere in the image (in mathematical terms: *translation invariant*). We do this by making use of a concept from image processing that predates deep learning.\n",
    "\n",
    "A **convolution matrix**, or **kernel**, is a matrix transformation that we 'slide' over the image to calculate features at each position of the image. For each pixel, we calculate the matrix product between the kernel and the pixel with its surroundings. A kernel is typically small, between 3x3 and 7x7 pixels. We can for example think of the 3x3 kernel:"
   ]
  },
  {
   "cell_type": "code",
   "execution_count": null,
   "id": "ec7f1ec2",
   "metadata": {},
   "outputs": [],
   "source": [
    "[[-1, -1, -1],\n",
    " [0, 0, 0]\n",
    " [1, 1, 1]]"
   ]
  },
  {
   "cell_type": "markdown",
   "id": "bd52392b",
   "metadata": {},
   "source": [
    "This kernel will give a high value to a pixel if it is on a horizontal border between dark and light areas.\n",
    "Note that for RGB images, the kernel should also have a depth of 3.\n",
    "\n",
    "In the following image, we see the effect of such a kernel on the values of a single-channel image. The red cell in the output matrix is the result of multiplying and summing the values of the red square in the input, and the kernel. Applying this kernel to a real image shows that it indeed detects horizontal edges.\n",
    "\n",
    "![](https://github.com/carpentries-lab/deep-learning-intro/raw/main/episodes/fig/04_conv_matrix.png){alt='Example of a convolution matrix calculation' style='width:90%'}\n",
    "\n",
    "![](https://github.com/carpentries-lab/deep-learning-intro/raw/main/episodes/fig/04_conv_image.png){alt='Convolution example on an image of a cat to extract features' style='width:100%'}\n",
    "\n",
    "In our **convolutional layer** our hidden units are a number of convolutional matrices (or kernels), where the values of the matrices are the weights that we learn in the training process. The output of a convolutional layer is an 'image' for each of the kernels, that gives the output of the kernel applied to each pixel.\n",
    "\n",
    "## Callout: Playing with convolutions\n",
    "\n",
    "Convolutions applied to images can be hard to grasp at first. Fortunately there are resources out\n",
    "there that enable users to interactively play around with images and convolutions:\n",
    "\n",
    "- [Image kernels explained](https://setosa.io/ev/image-kernels/) shows how different convolutions can achieve certain effects on an image, like sharpening and blurring.\n",
    "- [The convolutional neural network cheat sheet](https://stanford.edu/~shervine/teaching/cs-230/cheatsheet-convolutional-neural-networks#)\n",
    "     shows animated examples of the different components of convolutional neural nets:::\n",
    "\n",
    "## Challenge: Border pixels\n",
    "\n",
    "What, do you think, happens to the border pixels when applying a convolution?:::\n",
    "\n",
    "## Challenge: Number of model parameters\n",
    "\n",
    "Suppose we apply a convolutional layer with 100 kernels of size 3 * 3 * 3 (the last dimension applies to the rgb channels) to our images of 32 * 32 * 3 pixels. How many parameters do we have? Assume, for simplicity, that the kernels do not use bias terms. Compare this to the answer of the earlier exercise, [\"Number of Parameters\"](#parameters-exercise-1).:::\n",
    "\n",
    "So let us look at a network with a few convolutional layers. We need to finish with a Dense layer to connect the output cells of the convolutional layer to the outputs for our classes."
   ]
  },
  {
   "cell_type": "code",
   "execution_count": null,
   "id": "8e552eff",
   "metadata": {},
   "outputs": [],
   "source": [
    "inputs = keras.Input(shape=train_images.shape[1:])\n",
    "x = keras.layers.Conv2D(50, (3, 3), activation='relu')(inputs)\n",
    "x = keras.layers.Conv2D(50, (3, 3), activation='relu')(x)\n",
    "x = keras.layers.Flatten()(x)\n",
    "outputs = keras.layers.Dense(10)(x)\n",
    "\n",
    "model = keras.Model(inputs=inputs, outputs=outputs, name=\"dollar_street_model_small\")\n",
    "\n",
    "model.summary()"
   ]
  },
  {
   "cell_type": "code",
   "execution_count": null,
   "id": "1716c29b",
   "metadata": {},
   "outputs": [],
   "source": [
    "Model: \"dollar_street_model_small\"\n",
    "\n",
    "┏━━━━━━━━━━━━━━━━━━━━━━━━━━━━━━┳━━━━━━━━━━━━━━━━━━━━━━┳━━━━━━━━━━━━━┓\n",
    "┃ Layer (type)                 ┃ Output Shape         ┃     Param # ┃\n",
    "┡━━━━━━━━━━━━━━━━━━━━━━━━━━━━━━╇━━━━━━━━━━━━━━━━━━━━━━╇━━━━━━━━━━━━━┩\n",
    "│ input_layer_1 (InputLayer)   │ (None, 64, 64, 3)    │           0 │\n",
    "├──────────────────────────────┼──────────────────────┼─────────────┤\n",
    "│ conv2d (Conv2D)              │ (None, 62, 62, 50)   │       1,400 │\n",
    "├──────────────────────────────┼──────────────────────┼─────────────┤\n",
    "│ conv2d_1 (Conv2D)            │ (None, 60, 60, 50)   │      22,550 │\n",
    "├──────────────────────────────┼──────────────────────┼─────────────┤\n",
    "│ flatten (Flatten)            │ (None, 180000)       │           0 │\n",
    "├──────────────────────────────┼──────────────────────┼─────────────┤\n",
    "│ dense_1 (Dense)              │ (None, 10)           │   1,800,010 │\n",
    "└──────────────────────────────┴──────────────────────┴─────────────┘\n",
    "\n",
    " Total params: 1,823,960 (6.96 MB)\n",
    "\n",
    " Trainable params: 1,823,960 (6.96 MB)\n",
    "\n",
    " Non-trainable params: 0 (0.00 B)"
   ]
  },
  {
   "cell_type": "markdown",
   "id": "81c0beda",
   "metadata": {},
   "source": [
    "## Challenge: Convolutional Neural Network\n",
    "\n",
    "Inspect the network above:\n",
    "\n",
    "* What do you think is the function of the `Flatten` layer?\n",
    "* Which layer has the most parameters? Do you find this intuitive?\n",
    "* (optional) This dataset is similar to the often used CIFAR-10 dataset.\n",
    "We can get inspiration for neural network architectures that could work on our dataset here: https://paperswithcode.com/sota/image-classification-on-cifar-10 . Pick a model and try to understand how it works.:::\n",
    "\n",
    "## Callout: Search for existing architectures or pretrained models\n",
    "\n",
    "So far in this course we have built neural networks from scratch, because we want you to fully understand the basics of Keras.\n",
    "In the real world however, you would first search for existing solutions to your problem.\n",
    "\n",
    "You could for example search for 'large CNN image classification Keras implementation', and see if you can find any Keras implementations\n",
    "of more advanced architectures that you could reuse.\n",
    "A lot of the best-performing architectures for image classification are convolutional neural networks or at least have some elements in common.\n",
    "Therefore, we will introduce convolutional neural networks here, and the best way to teach you is by\n",
    "developing a neural network from scratch!:::\n",
    "\n",
    "::: instructor\n",
    "## Demonstrate searching for existing architectures\n",
    "At this point it can be nice to apply above callout box and demonstrate searching for state-of-the-art implementations.\n",
    "If you google for 'large CNN image classification Keras implementation' one of the top search results links to [an example from the Keras documentation for a small version of the Xception model](https://keras.io/examples/vision/image_classification_from_scratch/).\n",
    "\n",
    "It can be a nice learning opportunity to go through the notebook and show that the learners should\n",
    "already be familiar with a lot of the syntax (for example Conv2D, Dense, BatchNorm layers, adam optimizer, the deep learning workflow).\n",
    "You can show that even though the model is much deeper, the input and output layer are still the same.\n",
    "The aim is to demonstrate that what we are learning is really the basis for more complex models,\n",
    "and you do not need to reinvent the wheel.\n",
    ":::\n",
    "\n",
    "### Pooling layers\n",
    "Often in convolutional neural networks, the convolutional layers are intertwined with **Pooling layers**. As opposed to the convolutional layer, the pooling layer actually alters the dimensions of the image and reduces it by a scaling factor. It is basically decreasing the resolution of your picture. The rationale behind this is that higher layers of the network should focus on higher-level features of the image. By introducing a pooling layer, the subsequent convolutional layer has a broader 'view' on the original image.\n",
    "\n",
    "Let's put it into practice. We compose a Convolutional network with two convolutional layers and two pooling layers."
   ]
  },
  {
   "cell_type": "code",
   "execution_count": null,
   "id": "bc921108",
   "metadata": {},
   "outputs": [],
   "source": [
    "def create_nn():\n",
    "    inputs = keras.Input(shape=train_images.shape[1:])\n",
    "    x = keras.layers.Conv2D(50, (3, 3), activation='relu')(inputs)\n",
    "    x = keras.layers.MaxPooling2D((2, 2))(x) # a new maxpooling layer\n",
    "    x = keras.layers.Conv2D(50, (3, 3), activation='relu')(x)\n",
    "    x = keras.layers.MaxPooling2D((2, 2))(x) # a new maxpooling layer (same as maxpool)\n",
    "    x = keras.layers.Flatten()(x)\n",
    "    x = keras.layers.Dense(50, activation='relu')(x) # a new Dense layer\n",
    "    outputs = keras.layers.Dense(10)(x)\n",
    "\n",
    "    model = keras.Model(inputs=inputs, outputs=outputs, name=\"dollar_street_model\")\n",
    "    return model\n",
    "\n",
    "model = create_nn()\n",
    "model.summary()"
   ]
  },
  {
   "cell_type": "code",
   "execution_count": null,
   "id": "7e80b5d7",
   "metadata": {},
   "outputs": [],
   "source": [
    "Model: \"dollar_street_model\"\n",
    "\n",
    "┏━━━━━━━━━━━━━━━━━━━━━━━━━━━━━━┳━━━━━━━━━━━━━━━━━━━━━━┳━━━━━━━━━━━━━┓\n",
    "┃ Layer (type)                 ┃ Output Shape         ┃     Param # ┃\n",
    "┡━━━━━━━━━━━━━━━━━━━━━━━━━━━━━━╇━━━━━━━━━━━━━━━━━━━━━━╇━━━━━━━━━━━━━┩\n",
    "│ input_layer_2 (InputLayer)   │ (None, 64, 64, 3)    │           0 │\n",
    "├──────────────────────────────┼──────────────────────┼─────────────┤\n",
    "│ conv2d_2 (Conv2D)            │ (None, 62, 62, 50)   │       1,400 │\n",
    "├──────────────────────────────┼──────────────────────┼─────────────┤\n",
    "│ max_pooling2d (MaxPooling2D) │ (None, 31, 31, 50)   │           0 │\n",
    "├──────────────────────────────┼──────────────────────┼─────────────┤\n",
    "│ conv2d_3 (Conv2D)            │ (None, 29, 29, 50)   │      22,550 │\n",
    "├──────────────────────────────┼──────────────────────┼─────────────┤\n",
    "│ max_pooling2d_1              │ (None, 14, 14, 50)   │           0 │\n",
    "│ (MaxPooling2D)               │                      │             │\n",
    "├──────────────────────────────┼──────────────────────┼─────────────┤\n",
    "│ flatten_1 (Flatten)          │ (None, 9800)         │           0 │\n",
    "├──────────────────────────────┼──────────────────────┼─────────────┤\n",
    "│ dense_2 (Dense)              │ (None, 50)           │     490,050 │\n",
    "├──────────────────────────────┼──────────────────────┼─────────────┤\n",
    "│ dense_3 (Dense)              │ (None, 10)           │         510 │\n",
    "└──────────────────────────────┴──────────────────────┴─────────────┘\n",
    "\n",
    " Total params: 514,510 (1.96 MB)\n",
    "\n",
    " Trainable params: 514,510 (1.96 MB)\n",
    "\n",
    " Non-trainable params: 0 (0.00 B)"
   ]
  },
  {
   "cell_type": "markdown",
   "id": "f7bab0ee",
   "metadata": {},
   "source": [
    "## 5. Choose a loss function and optimizer\n",
    "\n",
    "We compile the model using the adam optimizer (other optimizers could also be used here!).\n",
    "Similar to the penguin classification task, we will use the crossentropy function to calculate the model's loss.\n",
    "This loss function is appropriate to use when the data has two or more label classes.\n",
    "\n",
    "Remember that our target class is represented by a single integer, whereas the output of our network has 10 nodes, one for each class.\n",
    "So, we should have actually one-hot encoded the targets and used a softmax activation for the neurons in our output layer!\n",
    "Luckily, there is a quick fix to calculate crossentropy loss for data that\n",
    "has its classes represented by integers, the `SparseCategoricalCrossentropy()` function. \n",
    "Adding the argument `from_logits=True` accounts for the fact that the output has a linear activation instead of softmax.\n",
    "This is what is often done in practice, because it spares you from having to worry about one-hot encoding."
   ]
  },
  {
   "cell_type": "code",
   "execution_count": null,
   "id": "d7a2cfd3",
   "metadata": {},
   "outputs": [],
   "source": [
    "def compile_model(model):\n",
    "    model.compile(optimizer='adam',\n",
    "                  loss=keras.losses.SparseCategoricalCrossentropy(from_logits=True),\n",
    "                  metrics=['accuracy'])\n",
    "compile_model(model)"
   ]
  },
  {
   "cell_type": "markdown",
   "id": "362d32ec",
   "metadata": {},
   "source": [
    "::: instructor\n",
    "## BREAK\n",
    "This is a good time for switching instructor and/or a break.\n",
    ":::\n",
    "\n",
    "## 6. Train the model\n",
    "\n",
    "We then train the model for 10 epochs:"
   ]
  },
  {
   "cell_type": "code",
   "execution_count": null,
   "id": "45f3aa93",
   "metadata": {},
   "outputs": [],
   "source": [
    "history = model.fit(train_images, train_labels, epochs=10,\n",
    "                    validation_data=(val_images, val_labels))"
   ]
  },
  {
   "cell_type": "markdown",
   "id": "5136f59f",
   "metadata": {},
   "source": [
    "## 7. Perform a Prediction/Classification\n",
    "Here we skip performing a prediction, and continue to measuring the performance.\n",
    "In practice, you will only do this step once in a while when you actually need to have the individual predictions,\n",
    "often you know enough based on the evaluation metric scores.\n",
    "Of course, behind the scenes whenever you measure performance you have to make predictions and compare them to the ground truth.\n",
    "\n",
    "## 8. Measure performance\n",
    "\n",
    "We can plot the training process using the history:"
   ]
  },
  {
   "cell_type": "code",
   "execution_count": null,
   "id": "16da6a15",
   "metadata": {},
   "outputs": [],
   "source": [
    "import seaborn as sns\n",
    "import matplotlib.pyplot as plt\n",
    "import pandas as pd\n",
    "\n",
    "def plot_history(history, metrics):\n",
    "    \"\"\"\n",
    "    Plot the training history\n",
    "\n",
    "    Args:\n",
    "        history (keras History object that is returned by model.fit())\n",
    "        metrics(str, list): Metric or a list of metrics to plot\n",
    "    \"\"\"\n",
    "    history_df = pd.DataFrame.from_dict(history.history)\n",
    "    sns.lineplot(data=history_df[metrics])\n",
    "    plt.xlabel(\"epochs\")\n",
    "    plt.ylabel(\"metric\")\n",
    "plot_history(history, ['accuracy', 'val_accuracy'])"
   ]
  },
  {
   "cell_type": "code",
   "execution_count": null,
   "id": "f3a6790a",
   "metadata": {},
   "outputs": [],
   "source": [
    "plot_history(history, ['loss', 'val_loss'])"
   ]
  },
  {
   "cell_type": "markdown",
   "id": "db9bda21",
   "metadata": {},
   "source": [
    "It seems that the model is overfitting a lot, because the training accuracy increases, while the validation accuracy stagnates. Meanwhile, the training loss keeps decreasing while the validation loss actually starts increasing after a few epochs.\n",
    "\n",
    "::: instructor\n",
    "## Comparison with a network with only dense layers\n",
    "The callout box below compares the CNN approach with a network with only dense layers.\n",
    "Depending on time, the following discussion can be extended in depth up to your liking. You have several options:\n",
    "\n",
    "1. It can be used as a good recap exercise. The exercise question is then:\n",
    "'How does this simple CNN compare to a neural network with only dense layers?\n",
    "Implement a dense neural network and compare its performance to that of the CNN'.\n",
    "This will take 30-45 minutes and might deviate the focus away from CNNs.\n",
    "2. You can demonstrate (no typing along), just to show how the network would look like and make the comparison.\n",
    "3. You can just mention that a simple network with only dense layers reaches 18% accuracy, considerably worse than our simple CNN.\n",
    ":::\n",
    "\n",
    "## Callout: Comparison with a network with only dense layers\n",
    "\n",
    "How does this simple CNN compare to a neural network with only dense layers?\n",
    "\n",
    "We can define a neural network with only dense layers:"
   ]
  },
  {
   "cell_type": "code",
   "execution_count": null,
   "id": "7f42c288",
   "metadata": {},
   "outputs": [],
   "source": [
    "def create_dense_model():\n",
    "    inputs = keras.Input(shape=train_images.shape[1:])\n",
    "    x = keras.layers.Flatten()(inputs)\n",
    "    x = keras.layers.Dense(50, activation='relu')(x)\n",
    "    x = keras.layers.Dense(50, activation='relu')(x)\n",
    "    outputs = keras.layers.Dense(10)(x)\n",
    "    return keras.models.Model(inputs=inputs, outputs=outputs,\n",
    "                              name='dense_model')\n",
    "\n",
    "dense_model = create_dense_model()\n",
    "dense_model.summary()"
   ]
  },
  {
   "cell_type": "code",
   "execution_count": null,
   "id": "5233181e",
   "metadata": {},
   "outputs": [],
   "source": [
    "Model: \"dense_model\"\n",
    "\n",
    "┏━━━━━━━━━━━━━━━━━━━━━━━━━━━━━━┳━━━━━━━━━━━━━━━━━━━━━━┳━━━━━━━━━━━━━┓\n",
    "┃ Layer (type)                 ┃ Output Shape         ┃     Param # ┃\n",
    "┡━━━━━━━━━━━━━━━━━━━━━━━━━━━━━━╇━━━━━━━━━━━━━━━━━━━━━━╇━━━━━━━━━━━━━┩\n",
    "│ input_layer_3 (InputLayer)   │ (None, 64, 64, 3)    │           0 │\n",
    "├──────────────────────────────┼──────────────────────┼─────────────┤\n",
    "│ flatten_2 (Flatten)          │ (None, 12288)        │           0 │\n",
    "├──────────────────────────────┼──────────────────────┼─────────────┤\n",
    "│ dense_4 (Dense)              │ (None, 50)           │     614,450 │\n",
    "├──────────────────────────────┼──────────────────────┼─────────────┤\n",
    "│ dense_5 (Dense)              │ (None, 50)           │       2,550 │\n",
    "├──────────────────────────────┼──────────────────────┼─────────────┤\n",
    "│ dense_6 (Dense)              │ (None, 10)           │         510 │\n",
    "└──────────────────────────────┴──────────────────────┴─────────────┘\n",
    "\n",
    " Total params: 617,510 (2.36 MB)\n",
    "\n",
    " Trainable params: 617,510 (2.36 MB)\n",
    "\n",
    " Non-trainable params: 0 (0.00 B)"
   ]
  },
  {
   "cell_type": "markdown",
   "id": "bd0f3ba1",
   "metadata": {},
   "source": [
    "As you can see this model has more parameters than our simple CNN, let's train and evaluate it!"
   ]
  },
  {
   "cell_type": "code",
   "execution_count": null,
   "id": "3c55e64d",
   "metadata": {},
   "outputs": [],
   "source": [
    "compile_model(dense_model)\n",
    "history = dense_model.fit(train_images, train_labels, epochs=20,\n",
    "                    validation_data=(val_images, val_labels))\n",
    "plot_history(history, ['accuracy', 'val_accuracy'])"
   ]
  },
  {
   "cell_type": "markdown",
   "id": "c05032ce",
   "metadata": {},
   "source": [
    "As you can see the validation accuracy only reaches about 18%, whereas the CNN reached about 28% accuracy.\n",
    "\n",
    "This demonstrates that convolutional layers are a big improvement over dense layers for these kind of datasets.:::\n",
    "\n",
    "## 9. Refine the model\n",
    "\n",
    "## Challenge: Network depth\n",
    "\n",
    "What, do you think, will be the effect of adding a convolutional layer to your model? Will this model have more or fewer parameters?\n",
    "Try it out. Create a `model` that has an additional `Conv2d` layer with 50 filters and another MaxPooling2D layer after the last MaxPooling2D layer. Train it for 10 epochs and plot the results.\n",
    "\n",
    "**HINT**:\n",
    "The model definition that we used previously needs to be adjusted as follows:"
   ]
  },
  {
   "cell_type": "code",
   "execution_count": null,
   "id": "0839e4de",
   "metadata": {},
   "outputs": [],
   "source": [
    "inputs = keras.Input(shape=train_images.shape[1:])\n",
    "x = keras.layers.Conv2D(50, (3, 3), activation='relu')(inputs)\n",
    "x = keras.layers.MaxPooling2D((2, 2))(x)\n",
    "x = keras.layers.Conv2D(50, (3, 3), activation='relu')(x)\n",
    "x = keras.layers.MaxPooling2D((2, 2))(x)\n",
    "# Add your extra layers here\n",
    "x = keras.layers.Flatten()(x)\n",
    "x = keras.layers.Dense(50, activation='relu')(x)\n",
    "outputs = keras.layers.Dense(10)(x)"
   ]
  },
  {
   "cell_type": "markdown",
   "id": "68f878df",
   "metadata": {},
   "source": [
    "## Callout: Other types of data\n",
    "\n",
    "Convolutional and Pooling layers are also applicable to different types of\n",
    "data than image data. Whenever the data is ordered in a (spatial) dimension,\n",
    "and *translation invariant* features are expected to be useful, convolutions\n",
    "can be used. Think for example of time series data from an accelerometer,\n",
    "audio data for speech recognition, or 3d structures of chemical compounds.:::\n",
    "\n",
    "## Challenge: Why and when to use convolutional neural networks\n",
    "\n",
    "1. Would it make sense to train a convolutional neural network (CNN) on the penguins dataset and why?\n",
    "2. Would it make sense to train a CNN on the weather dataset and why?\n",
    "3. (Optional) Can you think of a different machine learning task that would benefit from a\n",
    "  CNN architecture?:::\n",
    "\n",
    "### Dropout\n",
    "\n",
    "Note that the training loss continues to decrease, while the validation loss stagnates, and even starts to increase over the course of the epochs. Similarly, the accuracy for the validation set does not improve anymore after some epochs. This means we are overfitting on our training data set.\n",
    "\n",
    "Techniques to avoid overfitting, or to improve model generalization, are termed **regularization techniques**.\n",
    "One of the most versatile regularization technique is **dropout** ([Srivastava et al., 2014](https://jmlr.org/papers/v15/srivastava14a.html)).\n",
    "Dropout means that during each training cycle (one forward pass of the data through the model) a random fraction of neurons in a dense layer are turned off.\n",
    "This is described with the dropout rate between 0 and 1 which determines the fraction of nodes to silence at a time.\n",
    "\n",
    "![](https://github.com/carpentries-lab/deep-learning-intro/raw/main/episodes/fig/neural_network_sketch_dropout.png){alt='A sketch of a neural network with and without dropout'}\n",
    "\n",
    "The intuition behind dropout is that it enforces redundancies in the network by constantly removing different elements of a network. The model can no longer rely on individual nodes and instead must create multiple \"paths\". In addition, the model has to make predictions with much fewer nodes and weights (connections between the nodes).\n",
    "As a result, it becomes much harder for a network to memorize particular features. At first this might appear a quite drastic approach which affects the network architecture strongly.\n",
    "In practice, however, dropout is computationally a very elegant solution which does not affect training speed. And it frequently works very well.\n",
    "\n",
    "**Important to note:** Dropout layers will only randomly silence nodes during training! During a prediction step, all nodes remain active (dropout is off). During training, the sample of nodes that are silenced are different for each training instance, to give all nodes a chance to observe enough training data to learn its weights.\n",
    "\n",
    "Let us add a dropout layer after each pooling layer towards the end of the network that randomly drops 80% of the nodes."
   ]
  },
  {
   "cell_type": "code",
   "execution_count": null,
   "id": "d9473698",
   "metadata": {},
   "outputs": [],
   "source": [
    "def create_nn_with_dropout():\n",
    "    inputs = keras.Input(shape=train_images.shape[1:])\n",
    "    x = keras.layers.Conv2D(50, (3, 3), activation='relu')(inputs)\n",
    "    x = keras.layers.MaxPooling2D((2, 2))(x)\n",
    "    x = keras.layers.Dropout(0.8)(x) # This is new!\n",
    "\n",
    "    x = keras.layers.Conv2D(50, (3, 3), activation='relu')(x)\n",
    "    x = keras.layers.MaxPooling2D((2, 2))(x)\n",
    "    x = keras.layers.Dropout(0.8)(x) # This is new!\n",
    "\n",
    "    x = keras.layers.Conv2D(50, (3, 3), activation='relu')(x)\n",
    "    x = keras.layers.MaxPooling2D((2, 2))(x)\n",
    "    x = keras.layers.Dropout(0.8)(x) # This is new!\n",
    "\n",
    "    x = keras.layers.Flatten()(x)\n",
    "    x = keras.layers.Dense(50, activation='relu')(x)\n",
    "    outputs = keras.layers.Dense(10)(x)\n",
    "    model = keras.Model(inputs=inputs, outputs=outputs, name=\"dropout_model\")\n",
    "    return model\n",
    "\n",
    "model_dropout = create_nn_with_dropout()\n",
    "model_dropout.summary()"
   ]
  },
  {
   "cell_type": "code",
   "execution_count": null,
   "id": "60b0d587",
   "metadata": {},
   "outputs": [],
   "source": [
    "Model: \"dropout_model\"\n",
    "\n",
    "┏━━━━━━━━━━━━━━━━━━━━━━━━━━━━━━┳━━━━━━━━━━━━━━━━━━━━━━┳━━━━━━━━━━━━━┓\n",
    "┃ Layer (type)                 ┃ Output Shape         ┃     Param # ┃\n",
    "┡━━━━━━━━━━━━━━━━━━━━━━━━━━━━━━╇━━━━━━━━━━━━━━━━━━━━━━╇━━━━━━━━━━━━━┩\n",
    "│ input_layer_5 (InputLayer)   │ (None, 64, 64, 3)    │           0 │\n",
    "├──────────────────────────────┼──────────────────────┼─────────────┤\n",
    "│ conv2d_7 (Conv2D)            │ (None, 62, 62, 50)   │       1,400 │\n",
    "├──────────────────────────────┼──────────────────────┼─────────────┤\n",
    "│ max_pooling2d_5              │ (None, 31, 31, 50)   │           0 │\n",
    "│ (MaxPooling2D)               │                      │             │\n",
    "├──────────────────────────────┼──────────────────────┼─────────────┤\n",
    "│ dropout (Dropout)            │ (None, 31, 31, 50)   │           0 │\n",
    "├──────────────────────────────┼──────────────────────┼─────────────┤\n",
    "│ conv2d_8 (Conv2D)            │ (None, 29, 29, 50)   │      22,550 │\n",
    "├──────────────────────────────┼──────────────────────┼─────────────┤\n",
    "│ max_pooling2d_6              │ (None, 14, 14, 50)   │           0 │\n",
    "│ (MaxPooling2D)               │                      │             │\n",
    "├──────────────────────────────┼──────────────────────┼─────────────┤\n",
    "│ dropout_1 (Dropout)          │ (None, 14, 14, 50)   │           0 │\n",
    "├──────────────────────────────┼──────────────────────┼─────────────┤\n",
    "│ conv2d_9 (Conv2D)            │ (None, 12, 12, 50)   │      22,550 │\n",
    "├──────────────────────────────┼──────────────────────┼─────────────┤\n",
    "│ max_pooling2d_7              │ (None, 6, 6, 50)     │           0 │\n",
    "│ (MaxPooling2D)               │                      │             │\n",
    "├──────────────────────────────┼──────────────────────┼─────────────┤\n",
    "│ dropout_2 (Dropout)          │ (None, 6, 6, 50)     │           0 │\n",
    "├──────────────────────────────┼──────────────────────┼─────────────┤\n",
    "│ flatten_4 (Flatten)          │ (None, 1800)         │           0 │\n",
    "├──────────────────────────────┼──────────────────────┼─────────────┤\n",
    "│ dense_9 (Dense)              │ (None, 50)           │      90,050 │\n",
    "├──────────────────────────────┼──────────────────────┼─────────────┤\n",
    "│ dense_10 (Dense)             │ (None, 10)           │         510 │\n",
    "└──────────────────────────────┴──────────────────────┴─────────────┘\n",
    "\n",
    " Total params: 137,060 (535.39 KB)\n",
    "\n",
    " Trainable params: 137,060 (535.39 KB)\n",
    "\n",
    " Non-trainable params: 0 (0.00 B)"
   ]
  },
  {
   "cell_type": "markdown",
   "id": "20c737e8",
   "metadata": {},
   "source": [
    "We can see that the dropout does not alter the dimensions of the image, and has zero parameters.\n",
    "\n",
    "We again compile and train the model."
   ]
  },
  {
   "cell_type": "code",
   "execution_count": null,
   "id": "31e38428",
   "metadata": {},
   "outputs": [],
   "source": [
    "compile_model(model_dropout)\n",
    "\n",
    "history = model_dropout.fit(train_images, train_labels, epochs=20,\n",
    "                    validation_data=(val_images, val_labels))"
   ]
  },
  {
   "cell_type": "markdown",
   "id": "d4a25355",
   "metadata": {},
   "source": [
    "And inspect the training results:"
   ]
  },
  {
   "cell_type": "code",
   "execution_count": null,
   "id": "16cf8c6f",
   "metadata": {},
   "outputs": [],
   "source": [
    "plot_history(history, ['accuracy', 'val_accuracy'])"
   ]
  },
  {
   "cell_type": "markdown",
   "id": "76dc103a",
   "metadata": {},
   "source": [
    "Now we see that the gap between the training accuracy and validation accuracy is much smaller, and that the final accuracy on the validation set is higher than without dropout.\n",
    "\n",
    "## Challenge: Vary dropout rate\n",
    "\n",
    "1. What do you think would happen if you lower the dropout rate? Try it out, and\n",
    "  see how it affects the model training.\n",
    "2. You are varying the dropout rate and checking its effect on the model performance,\n",
    "  what is the term associated to this procedure?:::\n",
    "\n",
    "### Hyperparameter tuning\n",
    "::: instructor\n",
    "## Do a live demo instead of live coding\n",
    "You might want to demonstrate this section on hyperparameter tuning instead of doing live coding.\n",
    "The goal is to show that hyperparameter tuning can be done easily with `keras_tuner`, not to memorize all the exact syntax of how to do it. This will probably save you half an hour of participants typing over code that they already know from before. In addition, on really slow machines running the grid search could possibly take more than 10 minutes.\n",
    ":::\n",
    "\n",
    "Recall that hyperparameters are model configuration settings that are chosen before the training process and affect the model's learning behavior and performance, for example the dropout rate. In general, if you are varying hyperparameters to find the combination of hyperparameters with the best model performance this is called hyperparameter tuning. A naive way to do this is to write a for-loop and train a slightly different model in every cycle.\n",
    "However, it is better to use the `keras_tuner` package for this.\n",
    "\n",
    "Let's first define a function that creates a neuronal network given 2 hyperparameters, namely the dropout rate and the number of layers:"
   ]
  },
  {
   "cell_type": "code",
   "execution_count": null,
   "id": "7253a39b",
   "metadata": {},
   "outputs": [],
   "source": [
    "def create_nn_with_hp(dropout_rate, n_layers):\n",
    "    inputs = keras.Input(shape=train_images.shape[1:])\n",
    "    x = inputs\n",
    "    for layer in range(n_layers):\n",
    "        x = keras.layers.Conv2D(50, (3, 3), activation='relu')(x)\n",
    "        x = keras.layers.MaxPooling2D((2, 2))(x)\n",
    "    x = keras.layers.Dropout(dropout_rate)(x)\n",
    "    x = keras.layers.Flatten()(x)\n",
    "    x = keras.layers.Dense(50, activation='relu')(x)\n",
    "    outputs = keras.layers.Dense(10)(x)\n",
    "    model = keras.Model(inputs=inputs, outputs=outputs, name=\"cifar_model\")\n",
    "    return model"
   ]
  },
  {
   "cell_type": "markdown",
   "id": "f4ea4115",
   "metadata": {},
   "source": [
    "Now, let's find the best combination of hyperparameters using grid search.\n",
    "Grid search is the simplest hyperparameter tuning strategy,\n",
    "you test all the combinations of predefined values for the hyperparameters that you want to vary.\n",
    "\n",
    "For this we will make use of the package `keras_tuner`, we can install it by typing in the command line:"
   ]
  },
  {
   "cell_type": "code",
   "execution_count": null,
   "id": "9b645845",
   "metadata": {},
   "outputs": [],
   "source": [
    "pip install keras_tuner"
   ]
  },
  {
   "cell_type": "markdown",
   "id": "4cf94fd5",
   "metadata": {},
   "source": [
    "Note that this can take some time to train (around 5 minutes or longer)."
   ]
  },
  {
   "cell_type": "code",
   "execution_count": null,
   "id": "91ba9c51",
   "metadata": {},
   "outputs": [],
   "source": [
    "import keras_tuner\n",
    "\n",
    "hp = keras_tuner.HyperParameters()\n",
    "\n",
    "def build_model(hp):\n",
    "    # Define values for hyperparameters to try out:\n",
    "    n_layers = hp.Int(\"n_layers\", min_value=1, max_value=2, step=1)\n",
    "    dropout_rate = hp.Float(\"dropout_rate\", min_value=0.2, max_value=0.8, step=0.3)\n",
    "\n",
    "    model = create_nn_with_hp(dropout_rate, n_layers)\n",
    "    compile_model(model)\n",
    "    return model\n",
    "\n",
    "tuner = keras_tuner.GridSearch(build_model, objective='val_loss')\n",
    "\n",
    "tuner.search(train_images, train_labels, epochs=20,\n",
    "             validation_data=(val_images, val_labels))"
   ]
  },
  {
   "cell_type": "code",
   "execution_count": null,
   "id": "dd2a2623",
   "metadata": {},
   "outputs": [],
   "source": [
    "Trial 6 Complete [00h 00m 19s]\n",
    "val_loss: 2.086069345474243\n",
    "\n",
    "Best val_loss So Far: 2.086069345474243\n",
    "Total elapsed time: 00h 01m 28s"
   ]
  },
  {
   "cell_type": "markdown",
   "id": "4564f81b",
   "metadata": {},
   "source": [
    "Let's have a look at the results:"
   ]
  },
  {
   "cell_type": "code",
   "execution_count": null,
   "id": "2212b60f",
   "metadata": {},
   "outputs": [],
   "source": [
    "tuner.results_summary()"
   ]
  },
  {
   "cell_type": "code",
   "execution_count": null,
   "id": "dbd205ec",
   "metadata": {},
   "outputs": [],
   "source": [
    "Results summary\n",
    "Results in ./untitled_project\n",
    "Showing 10 best trials\n",
    "Objective(name=\"val_loss\", direction=\"min\")\n",
    "\n",
    "Trial 0005 summary\n",
    "Hyperparameters:\n",
    "n_layers: 2\n",
    "dropout_rate: 0.8\n",
    "Score: 2.086069345474243\n",
    "\n",
    "Trial 0000 summary\n",
    "Hyperparameters:\n",
    "n_layers: 1\n",
    "dropout_rate: 0.2\n",
    "Score: 2.101102352142334\n",
    "\n",
    "Trial 0001 summary\n",
    "Hyperparameters:\n",
    "n_layers: 1\n",
    "dropout_rate: 0.5\n",
    "Score: 2.1184325218200684\n",
    "\n",
    "Trial 0003 summary\n",
    "Hyperparameters:\n",
    "n_layers: 2\n",
    "dropout_rate: 0.2\n",
    "Score: 2.1233835220336914\n",
    "\n",
    "Trial 0002 summary\n",
    "Hyperparameters:\n",
    "n_layers: 1\n",
    "dropout_rate: 0.8\n",
    "Score: 2.1370232105255127\n",
    "\n",
    "Trial 0004 summary\n",
    "Hyperparameters:\n",
    "n_layers: 2\n",
    "dropout_rate: 0.5\n",
    "Score: 2.143627882003784"
   ]
  },
  {
   "cell_type": "markdown",
   "id": "1e150be8",
   "metadata": {},
   "source": [
    "## Challenge: Hyperparameter tuning\n",
    "\n",
    "1: Looking at the grid search results, select all correct statements:\n",
    "\n",
    "- A. 6 different models were trained in this grid search run, because there are 6 possible combinations for the defined hyperparameter values\n",
    "- B. 2 different models were trained, 1 for each hyperparameter that we want to change\n",
    "- C. 1 model is trained with 6 different hyperparameter combinations\n",
    "- D. The model with 2 layer and a dropout rate of 0.5 is the best model with a validation loss of 2.144\n",
    "- E. The model with 2 layers and a dropout rate of 0.8 is the best model with a validation loss of 2.086\n",
    "- F. We found the model with the best possible combination of dropout rate and number of layers\n",
    "\n",
    "2 (Optional): Perform a grid search finding the best combination of the following hyperparameters: 2 different activation functions: 'relu', and 'tanh', and 2 different values for the kernel size: 3 and 4. Which combination works best?\n",
    "\n",
    "**Hint**: Instead of `hp.Int` you should now use `hp.Choice(\"name\", [\"value1\", \"value2\"])` to use hyperparameters from a predefined set of possible values.:::\n",
    "\n",
    "Grid search can quickly result in a combinatorial explosion because all combinations of hyperparameters are trained and tested.\n",
    "Instead, `random search` randomly samples combinations of hyperparemeters, allowing for a much larger look through a large number of possible hyperparameter combinations.\n",
    "\n",
    "Next to grid search and random search there are many different hyperparameter tuning strategies, including [neural architecture search](https://en.wikipedia.org/wiki/Neural_architecture_search) where a separate neural network is trained to find the best architecture for a model!\n",
    "\n",
    "## 10. Share model\n",
    "Let's save our model"
   ]
  },
  {
   "cell_type": "code",
   "execution_count": null,
   "id": "584dc00e",
   "metadata": {},
   "outputs": [],
   "source": [
    "model.save('cnn_model.keras')"
   ]
  },
  {
   "cell_type": "markdown",
   "id": "356e7e38",
   "metadata": {},
   "source": [
    "## Conclusion and next steps\n",
    "How successful were we with creating a model here?\n",
    "With ten image classes, and assuming that we would not ask the model to classify an image that contains none of the given classes of object, a model working on complete guesswork would be correct 10% of the time.\n",
    "Against this baseline accuracy of 10%, and considering the diversity and relatively low resolution of the example images, perhaps our last model's validation accuracy of ~30% is not too bad.\n",
    "What could be done to improve on this performance?\n",
    "We might try adjusting the number of layers and their parameters, such as the number of units in a layer, or providing more training data (we were using only a subset of the original Dollar Street dataset here).\n",
    "Or we could explore some other deep learning techniques, such as transfer learning, to create more sophisticated models.\n",
    "\n",
    "## Keypoints\n",
    "\n",
    "- Convolutional layers make efficient reuse of model parameters.\n",
    "- Pooling layers decrease the resolution of your input\n",
    "- Dropout is a way to prevent overfitting:::"
   ]
  }
 ],
 "metadata": {},
 "nbformat": 4,
 "nbformat_minor": 5
}
