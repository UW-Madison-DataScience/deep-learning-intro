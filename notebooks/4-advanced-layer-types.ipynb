{
 "cells": [
  {
   "cell_type": "markdown",
   "id": "2fca4eae",
   "metadata": {},
   "source": [
    "# Advanced layer types"
   ]
  },
  {
   "cell_type": "markdown",
   "id": "317689eb",
   "metadata": {},
   "source": [
    "::: questions\n",
    "- Why do we need different types of layers?\n",
    "- What are good network designs for image data?\n",
    "- What is a convolutional layer?\n",
    "- How can we use different types of layers to prevent overfitting?\n",
    "- What is hyperparameter tuning?\n",
    ":::\n",
    "\n",
    "::: objectives\n",
    "- Understand why convolutional and pooling layers are useful for image data\n",
    "- Implement a convolutional neural network on an image dataset\n",
    "- Use a dropout layer to prevent overfitting\n",
    "- Be able to tune the hyperparameters of a Keras model\n",
    ":::\n",
    "\n",
    "\n",
    "## Different types of layers\n",
    "Networks are like onions: a typical neural network consists of many layers. In fact, the word *deep* in *deep learning*\n",
    "refers to the many layers that make the network deep.\n",
    "\n",
    "So far, we have seen one type of layer, namely the **fully connected**, or **dense** layer. This layer is called fully connected, because all input neurons are taken into account by each output neuron. The number of parameters that need to be learned by the network, is thus in the order of magnitude of the number of input neurons times the number of hidden neurons.\n",
    "\n",
    "However, there are many different types of layers that perform different calculations and take different inputs. In this episode we will take a look at **convolutional layers** and **dropout layers**, which are useful in the context of image data, but also in many other types of (structured) data.\n",
    "\n",
    "## 1. Formulate / Outline the problem: Image classification\n",
    "The [MLCommons Dollar Street Dataset](https://www.kaggle.com/datasets/mlcommons/the-dollar-street-dataset) is a collection of images of everyday household items from homes around the world that visually captures socioeconomic diversity of traditionally underrepresented populations. We use [a subset of the original dataset](https://zenodo.org/records/10970014) that can be used for multiclass classification with 10 categories. Let's load the data:"
   ]
  },
  {
   "cell_type": "code",
   "execution_count": null,
   "id": "d47d91df",
   "metadata": {},
   "outputs": [],
   "source": [
    "import pathlib\n",
    "import numpy as np\n",
    "\n",
    "DATA_FOLDER = pathlib.Path('data/dataset_dollarstreet/') # change to location where you stored the data\n",
    "train_images = np.load(DATA_FOLDER / 'train_images.npy')\n",
    "val_images = np.load(DATA_FOLDER / 'test_images.npy')\n",
    "train_labels = np.load(DATA_FOLDER / 'train_labels.npy')\n",
    "val_labels = np.load(DATA_FOLDER / 'test_labels.npy')"
   ]
  },
  {
   "cell_type": "markdown",
   "id": "94bf7ca6",
   "metadata": {},
   "source": [
    ":::::::::::::::::::::::::::::::::::::::::: callout\n",
    "\n",
    "### A note about data provenance\n",
    "In an earlier version, this part of the lesson used a different example dataset.\n",
    "During [peer review](https://github.com/carpentries-lab/reviews/issues/25#issuecomment-1953271802), the decision was made to replace that dataset due to the way it had been compiled using images \"scraped\" from the internet without permission from or credit to the original creators of those images. Unfortunately, uncredited use of images is a common problem among datasets used to benchmark models for image classification.\n",
    "\n",
    "The Dollar Street dataset was chosen for use in the lesson as it contains only images [created by the Gapminder project](https://www.gapminder.org/dollar-street/about?) for the purposes of using them in the dataset.\n",
    "The original Dollar Street dataset is very large -- more than 100 GB -- with the potential to grow even bigger, so we created a subset for use in this lesson.\n",
    "\n",
    "::::::::::::::::::::::::::::::::::::::::::::::::::\n",
    "\n",
    "\n",
    "### Dollar Street 10 dataset\n",
    "\n",
    "The Dollar Street 10 dataset consists of images of 10 different classes, this is the mapping of the categories:\n",
    "\n",
    "| Category        | label |\n",
    "|-----------------|-------|\n",
    "| day bed         | 0     |\n",
    "| dishrag         | 1     |\n",
    "| plate           | 2     |\n",
    "| running shoe    | 3     |\n",
    "| soap dispenser  | 4     |\n",
    "| street sign     | 5     |\n",
    "| table lamp      | 6     |\n",
    "| tile roof       | 7     |\n",
    "| toilet seat     | 8     |\n",
    "| washing machine | 9     |\n",
    "\n",
    "\n",
    "![Sample images from the Dollar Street 10 dataset. Each image is labelled with a category, for example: 'street sign' or 'soap dispenser'](https://github.com/carpentries-lab/deep-learning-intro/raw/main/episodes/fig/04_dollar_street_10.png){alt=\"A 5 by 5 grid of 25 sample images from the dollar street 10 data-set. Each image is labelled with a category, for example: 'street sign' or 'soap dispenser'.\"}\n",
    "\n",
    "## 2. Identify inputs and outputs\n",
    "\n",
    "### Explore the data\n",
    "\n",
    "Let's do a quick exploration of the dimensions of the data:"
   ]
  },
  {
   "cell_type": "code",
   "execution_count": null,
   "id": "c0e1d7d3",
   "metadata": {},
   "outputs": [],
   "source": [
    "train_images.shape"
   ]
  },
  {
   "cell_type": "markdown",
   "id": "7a0553af",
   "metadata": {},
   "source": [
    "The first value, `878`, is the number of training images in the dataset.\n",
    "The remainder of the shape, namely `(64, 64, 3)`, denotes\n",
    "the dimension of one image. The last value 3 is typical for color images,\n",
    "and stands for the three color channels **R**ed, **G**reen, **B**lue.\n",
    "\n",
    "::: challenge\n",
    "\n",
    "### Number of features in Dollar Street 10\n",
    "\n",
    "How many features does one image in the Dollar Street 10 dataset have?\n",
    "\n",
    "- A. 64\n",
    "- B. 4096\n",
    "- C. 12288\n",
    "- D. 878\n",
    "\n",
    "\n",
    ":::\n",
    "\n",
    "\n",
    "We can find out the range of values of our input data as follows:"
   ]
  },
  {
   "cell_type": "code",
   "execution_count": null,
   "id": "442ce29b",
   "metadata": {},
   "outputs": [],
   "source": [
    "train_images.min(), train_images.max()"
   ]
  },
  {
   "cell_type": "markdown",
   "id": "20f947ad",
   "metadata": {},
   "source": [
    "So the values of the three channels range between `0` and `255`.\n",
    "Lastly, we inspect the dimension of the labels:"
   ]
  },
  {
   "cell_type": "code",
   "execution_count": null,
   "id": "ec4fefb4",
   "metadata": {},
   "outputs": [],
   "source": [
    "train_labels.shape"
   ]
  },
  {
   "cell_type": "markdown",
   "id": "7a607b8c",
   "metadata": {},
   "source": [
    "So we have, for each image, a single value denoting the label.\n",
    "To find out what the possible values of these labels are:"
   ]
  },
  {
   "cell_type": "code",
   "execution_count": null,
   "id": "229d72c7",
   "metadata": {},
   "outputs": [],
   "source": [
    "train_labels.min(), train_labels.max()"
   ]
  },
  {
   "cell_type": "markdown",
   "id": "27b4662e",
   "metadata": {},
   "source": [
    "The values of the labels range between `0` and `9`, denoting 10 different classes.\n",
    "\n",
    "## 3. Prepare data\n",
    "\n",
    "The training set consists of 878 images of `64x64` pixels and 3 channels (RGB values). The RGB values are between `0` and `255`. For input of neural networks, it is better to have small input values. So we normalize our data between `0` and `1`:"
   ]
  },
  {
   "cell_type": "code",
   "execution_count": null,
   "id": "59b743a4",
   "metadata": {},
   "outputs": [],
   "source": [
    "train_images = train_images / 255.0\n",
    "val_images = val_images / 255.0"
   ]
  },
  {
   "cell_type": "markdown",
   "id": "7237a016",
   "metadata": {},
   "source": [
    "## 4. Choose a pretrained model or start building architecture from scratch\n",
    "\n",
    "### Convolutional layers\n",
    "In the previous episodes, we used 'fully connected layers' , that connected all input values of a layer to all outputs of a layer.\n",
    "This results in many connections, and thus many weights to be learned, in the network.\n",
    "Note that our input dimension is now quite high (even with small pictures of `64x64` pixels): we have 12288 features.\n",
    "\n",
    "::: challenge\n",
    "## Number of parameters{#parameters-exercise-1}\n",
    "Suppose we create a single Dense (fully connected) layer with 100 hidden units that connect to the input pixels, how many parameters does this layer have?\n",
    "\n",
    "- A. 1228800\n",
    "- B. 1228900\n",
    "- C. 100\n",
    "- D. 12288\n",
    "\n",
    ":::\n",
    "\n",
    "We can decrease the number of units in our hidden layer, but this also decreases the number of patterns our network can remember. Moreover, if we increase the image size, the number of weights will 'explode', even though the task of recognizing large images is not necessarily more difficult than the task of recognizing small images.\n",
    "\n",
    "The solution is that we make the network learn in a 'smart' way. The features that we learn should be similar both for small and large images, and similar features (e.g. edges, corners) can appear anywhere in the image (in mathematical terms: *translation invariant*). We do this by making use of a concept from image processing that predates deep learning.\n",
    "\n",
    "A **convolution matrix**, or **kernel**, is a matrix transformation that we 'slide' over the image to calculate features at each position of the image. For each pixel, we calculate the matrix product between the kernel and the pixel with its surroundings. A kernel is typically small, between 3x3 and 7x7 pixels. We can for example think of the 3x3 kernel:\n",
    "\n",
    "\n",
    "This kernel will give a high value to a pixel if it is on a horizontal border between dark and light areas.\n",
    "Note that for RGB images, the kernel should also have a depth of 3.\n",
    "\n",
    "In the following image, we see the effect of such a kernel on the values of a single-channel image. The red cell in the output matrix is the result of multiplying and summing the values of the red square in the input, and the kernel. Applying this kernel to a real image shows that it indeed detects horizontal edges.\n",
    "\n",
    "![](https://github.com/carpentries-lab/deep-learning-intro/raw/main/episodes/fig/04_conv_matrix.png){alt='Example of a convolution matrix calculation' style='width:90%'}\n",
    "\n",
    "![](https://github.com/carpentries-lab/deep-learning-intro/raw/main/episodes/fig/04_conv_image.png){alt='Convolution example on an image of a cat to extract features' style='width:100%'}\n",
    "\n",
    "In our **convolutional layer** our hidden units are a number of convolutional matrices (or kernels), where the values of the matrices are the weights that we learn in the training process. The output of a convolutional layer is an 'image' for each of the kernels, that gives the output of the kernel applied to each pixel.\n",
    "\n",
    "::: callout\n",
    "## Playing with convolutions\n",
    "Convolutions applied to images can be hard to grasp at first. Fortunately there are resources out\n",
    "there that enable users to interactively play around with images and convolutions:\n",
    "\n",
    "- [Image kernels explained](https://setosa.io/ev/image-kernels/) shows how different convolutions can achieve certain effects on an image, like sharpening and blurring.\n",
    "- [The convolutional neural network cheat sheet](https://stanford.edu/~shervine/teaching/cs-230/cheatsheet-convolutional-neural-networks#)\n",
    "     shows animated examples of the different components of convolutional neural nets \n",
    ":::\n",
    "\n",
    "::: challenge\n",
    "## Border pixels\n",
    "What, do you think, happens to the border pixels when applying a convolution?\n",
    "\n",
    ":::\n",
    "\n",
    "::: challenge\n",
    "## Number of model parameters\n",
    "Suppose we apply a convolutional layer with 100 kernels of size 3 * 3 * 3 (the last dimension applies to the rgb channels) to our images of 32 * 32 * 3 pixels. How many parameters do we have? Assume, for simplicity, that the kernels do not use bias terms. Compare this to the answer of the earlier exercise, [\"Number of Parameters\"](#parameters-exercise-1).\n",
    "\n",
    ":::\n",
    "\n",
    "So let us look at a network with a few convolutional layers. We need to finish with a Dense layer to connect the output cells of the convolutional layer to the outputs for our classes."
   ]
  },
  {
   "cell_type": "code",
   "execution_count": null,
   "id": "88683a87",
   "metadata": {},
   "outputs": [],
   "source": [
    "inputs = keras.Input(shape=train_images.shape[1:])\n",
    "x = keras.layers.Conv2D(50, (3, 3), activation='relu')(inputs)\n",
    "x = keras.layers.Conv2D(50, (3, 3), activation='relu')(x)\n",
    "x = keras.layers.Flatten()(x)\n",
    "outputs = keras.layers.Dense(10)(x)\n",
    "\n",
    "model = keras.Model(inputs=inputs, outputs=outputs, name=\"dollar_street_model_small\")\n",
    "\n",
    "model.summary()"
   ]
  },
  {
   "cell_type": "markdown",
   "id": "2a591d35",
   "metadata": {},
   "source": [
    "::: challenge\n",
    "## Convolutional Neural Network\n",
    "\n",
    "Inspect the network above:\n",
    "\n",
    "* What do you think is the function of the `Flatten` layer?\n",
    "* Which layer has the most parameters? Do you find this intuitive?\n",
    "* (optional) This dataset is similar to the often used CIFAR-10 dataset.\n",
    "We can get inspiration for neural network architectures that could work on our dataset here: https://paperswithcode.com/sota/image-classification-on-cifar-10 . Pick a model and try to understand how it works.\n",
    "\n",
    ":::\n",
    "\n",
    "::: callout\n",
    "## Search for existing architectures or pretrained models\n",
    "So far in this course we have built neural networks from scratch, because we want you to fully understand the basics of Keras.\n",
    "In the real world however, you would first search for existing solutions to your problem.\n",
    "\n",
    "You could for example search for 'large CNN image classification Keras implementation', and see if you can find any Keras implementations\n",
    "of more advanced architectures that you could reuse.\n",
    "A lot of the best-performing architectures for image classification are convolutional neural networks or at least have some elements in common.\n",
    "Therefore, we will introduce convolutional neural networks here, and the best way to teach you is by\n",
    "developing a neural network from scratch!\n",
    ":::\n",
    "\n",
    "\n",
    "### Pooling layers\n",
    "Often in convolutional neural networks, the convolutional layers are intertwined with **Pooling layers**. As opposed to the convolutional layer, the pooling layer actually alters the dimensions of the image and reduces it by a scaling factor. It is basically decreasing the resolution of your picture. The rationale behind this is that higher layers of the network should focus on higher-level features of the image. By introducing a pooling layer, the subsequent convolutional layer has a broader 'view' on the original image.\n",
    "\n",
    "Let's put it into practice. We compose a Convolutional network with two convolutional layers and two pooling layers."
   ]
  },
  {
   "cell_type": "code",
   "execution_count": null,
   "id": "9ea3effe",
   "metadata": {},
   "outputs": [],
   "source": [
    "def create_nn():\n",
    "    inputs = keras.Input(shape=train_images.shape[1:])\n",
    "    x = keras.layers.Conv2D(50, (3, 3), activation='relu')(inputs)\n",
    "    x = keras.layers.MaxPooling2D((2, 2))(x) # a new maxpooling layer\n",
    "    x = keras.layers.Conv2D(50, (3, 3), activation='relu')(x)\n",
    "    x = keras.layers.MaxPooling2D((2, 2))(x) # a new maxpooling layer (same as maxpool)\n",
    "    x = keras.layers.Flatten()(x)\n",
    "    x = keras.layers.Dense(50, activation='relu')(x) # a new Dense layer\n",
    "    outputs = keras.layers.Dense(10)(x)\n",
    "\n",
    "    model = keras.Model(inputs=inputs, outputs=outputs, name=\"dollar_street_model\")\n",
    "    return model\n",
    "\n",
    "model = create_nn()\n",
    "model.summary()"
   ]
  },
  {
   "cell_type": "markdown",
   "id": "ead700c6",
   "metadata": {},
   "source": [
    "## 5. Choose a loss function and optimizer\n",
    "\n",
    "We compile the model using the adam optimizer (other optimizers could also be used here!).\n",
    "Similar to the penguin classification task, we will use the crossentropy function to calculate the model's loss.\n",
    "This loss function is appropriate to use when the data has two or more label classes.\n",
    "\n",
    "Remember that our target class is represented by a single integer, whereas the output of our network has 10 nodes, one for each class.\n",
    "So, we should have actually one-hot encoded the targets and used a softmax activation for the neurons in our output layer!\n",
    "Luckily, there is a quick fix to calculate crossentropy loss for data that\n",
    "has its classes represented by integers, the `SparseCategoricalCrossentropy()` function. \n",
    "Adding the argument `from_logits=True` accounts for the fact that the output has a linear activation instead of softmax.\n",
    "This is what is often done in practice, because it spares you from having to worry about one-hot encoding."
   ]
  },
  {
   "cell_type": "code",
   "execution_count": null,
   "id": "74128570",
   "metadata": {},
   "outputs": [],
   "source": [
    "def compile_model(model):\n",
    "    model.compile(optimizer='adam',\n",
    "                  loss=keras.losses.SparseCategoricalCrossentropy(from_logits=True),\n",
    "                  metrics=['accuracy'])\n",
    "compile_model(model)"
   ]
  },
  {
   "cell_type": "markdown",
   "id": "2319d17c",
   "metadata": {},
   "source": [
    "## 6. Train the model\n",
    "\n",
    "We then train the model for 10 epochs:"
   ]
  },
  {
   "cell_type": "code",
   "execution_count": null,
   "id": "09653dad",
   "metadata": {},
   "outputs": [],
   "source": [
    "history = model.fit(train_images, train_labels, epochs=10,\n",
    "                    validation_data=(val_images, val_labels))"
   ]
  },
  {
   "cell_type": "markdown",
   "id": "49751743",
   "metadata": {},
   "source": [
    "## 7. Perform a Prediction/Classification\n",
    "Here we skip performing a prediction, and continue to measuring the performance.\n",
    "In practice, you will only do this step once in a while when you actually need to have the individual predictions,\n",
    "often you know enough based on the evaluation metric scores.\n",
    "Of course, behind the scenes whenever you measure performance you have to make predictions and compare them to the ground truth.\n",
    "\n",
    "## 8. Measure performance\n",
    "\n",
    "We can plot the training process using the history:"
   ]
  },
  {
   "cell_type": "code",
   "execution_count": null,
   "id": "45be50df",
   "metadata": {},
   "outputs": [],
   "source": [
    "import seaborn as sns\n",
    "import matplotlib.pyplot as plt\n",
    "import pandas as pd\n",
    "\n",
    "def plot_history(history, metrics):\n",
    "    \"\"\"\n",
    "    Plot the training history\n",
    "\n",
    "    Args:\n",
    "        history (keras History object that is returned by model.fit())\n",
    "        metrics(str, list): Metric or a list of metrics to plot\n",
    "    \"\"\"\n",
    "    history_df = pd.DataFrame.from_dict(history.history)\n",
    "    sns.lineplot(data=history_df[metrics])\n",
    "    plt.xlabel(\"epochs\")\n",
    "    plt.ylabel(\"metric\")\n",
    "plot_history(history, ['accuracy', 'val_accuracy'])"
   ]
  },
  {
   "cell_type": "markdown",
   "id": "822f01ad",
   "metadata": {},
   "source": [
    "![](https://github.com/carpentries-lab/deep-learning-intro/raw/main/episodes/fig/04_training_history_1.png){alt='Plot of training accuracy and validation accuracy vs epochs for the trained model'}"
   ]
  },
  {
   "cell_type": "code",
   "execution_count": null,
   "id": "f7079fcf",
   "metadata": {},
   "outputs": [],
   "source": [
    "plot_history(history, ['loss', 'val_loss'])"
   ]
  },
  {
   "cell_type": "markdown",
   "id": "60b91542",
   "metadata": {},
   "source": [
    "![](https://github.com/carpentries-lab/deep-learning-intro/raw/main/episodes/fig/04_training_history_loss_1.png){alt='Plot of training loss and validation loss vs epochs for the trained model'}\n",
    "\n",
    "It seems that the model is overfitting a lot, because the training accuracy increases, while the validation accuracy stagnates. Meanwhile, the training loss keeps decreasing while the validation loss actually starts increasing after a few epochs.\n",
    "\n",
    "\n",
    "::: callout\n",
    "## Comparison with a network with only dense layers\n",
    "How does this simple CNN compare to a neural network with only dense layers?\n",
    "\n",
    "We can define a neural network with only dense layers:"
   ]
  },
  {
   "cell_type": "code",
   "execution_count": null,
   "id": "fd46a1fa",
   "metadata": {},
   "outputs": [],
   "source": [
    "def create_dense_model():\n",
    "    inputs = keras.Input(shape=train_images.shape[1:])\n",
    "    x = keras.layers.Flatten()(inputs)\n",
    "    x = keras.layers.Dense(50, activation='relu')(x)\n",
    "    x = keras.layers.Dense(50, activation='relu')(x)\n",
    "    outputs = keras.layers.Dense(10)(x)\n",
    "    return keras.models.Model(inputs=inputs, outputs=outputs,\n",
    "                              name='dense_model')\n",
    "\n",
    "dense_model = create_dense_model()\n",
    "dense_model.summary()"
   ]
  },
  {
   "cell_type": "markdown",
   "id": "dbcabf8a",
   "metadata": {},
   "source": [
    "As you can see this model has more parameters than our simple CNN, let's train and evaluate it!"
   ]
  },
  {
   "cell_type": "code",
   "execution_count": null,
   "id": "e95a5d30",
   "metadata": {},
   "outputs": [],
   "source": [
    "compile_model(dense_model)\n",
    "history = dense_model.fit(train_images, train_labels, epochs=20,\n",
    "                    validation_data=(val_images, val_labels))\n",
    "plot_history(history, ['accuracy', 'val_accuracy'])"
   ]
  },
  {
   "cell_type": "markdown",
   "id": "df3b4943",
   "metadata": {},
   "source": [
    "![](https://github.com/carpentries-lab/deep-learning-intro/raw/main/episodes/fig/04_dense_model_training_history.png){alt=\"Plot of training accuracy and validation accuracy vs epochs for a model with only dense layers\"}\n",
    "\n",
    "As you can see the validation accuracy only reaches about 18%, whereas the CNN reached about 28% accuracy.\n",
    "\n",
    "This demonstrates that convolutional layers are a big improvement over dense layers for these kind of datasets.\n",
    ":::\n",
    "\n",
    "## 9. Refine the model\n",
    "\n",
    "::: challenge\n",
    "## Network depth\n",
    "What, do you think, will be the effect of adding a convolutional layer to your model? Will this model have more or fewer parameters?\n",
    "Try it out. Create a `model` that has an additional `Conv2d` layer with 50 filters and another MaxPooling2D layer after the last MaxPooling2D layer. Train it for 10 epochs and plot the results.\n",
    "\n",
    "**HINT**:\n",
    "The model definition that we used previously needs to be adjusted as follows:\n",
    "```python\n",
    "inputs = keras.Input(shape=train_images.shape[1:])\n",
    "x = keras.layers.Conv2D(50, (3, 3), activation='relu')(inputs)\n",
    "x = keras.layers.MaxPooling2D((2, 2))(x)\n",
    "x = keras.layers.Conv2D(50, (3, 3), activation='relu')(x)\n",
    "x = keras.layers.MaxPooling2D((2, 2))(x)\n",
    "# Add your extra layers here\n",
    "x = keras.layers.Flatten()(x)\n",
    "x = keras.layers.Dense(50, activation='relu')(x)\n",
    "outputs = keras.layers.Dense(10)(x)\n",
    "```\n",
    "\n",
    ":::\n",
    "\n",
    "::: callout\n",
    "## Other types of data\n",
    "Convolutional and Pooling layers are also applicable to different types of\n",
    "data than image data. Whenever the data is ordered in a (spatial) dimension,\n",
    "and *translation invariant* features are expected to be useful, convolutions\n",
    "can be used. Think for example of time series data from an accelerometer,\n",
    "audio data for speech recognition, or 3d structures of chemical compounds.\n",
    ":::\n",
    "\n",
    "::: challenge\n",
    "## Why and when to use convolutional neural networks\n",
    "1. Would it make sense to train a convolutional neural network (CNN) on the penguins dataset and why?\n",
    "2. Would it make sense to train a CNN on the weather dataset and why?\n",
    "3. (Optional) Can you think of a different machine learning task that would benefit from a\n",
    "  CNN architecture?\n",
    "\n",
    ":::\n",
    "\n",
    "### Dropout\n",
    "\n",
    "Note that the training loss continues to decrease, while the validation loss stagnates, and even starts to increase over the course of the epochs. Similarly, the accuracy for the validation set does not improve anymore after some epochs. This means we are overfitting on our training data set.\n",
    "\n",
    "Techniques to avoid overfitting, or to improve model generalization, are termed **regularization techniques**.\n",
    "One of the most versatile regularization technique is **dropout** ([Srivastava et al., 2014](https://jmlr.org/papers/v15/srivastava14a.html)).\n",
    "Dropout means that during each training cycle (one forward pass of the data through the model) a random fraction of neurons in a dense layer are turned off.\n",
    "This is described with the dropout rate between 0 and 1 which determines the fraction of nodes to silence at a time.\n",
    "\n",
    "![](https://github.com/carpentries-lab/deep-learning-intro/raw/main/episodes/fig/neural_network_sketch_dropout.png){alt='A sketch of a neural network with and without dropout'}\n",
    "\n",
    "The intuition behind dropout is that it enforces redundancies in the network by constantly removing different elements of a network. The model can no longer rely on individual nodes and instead must create multiple \"paths\". In addition, the model has to make predictions with much fewer nodes and weights (connections between the nodes).\n",
    "As a result, it becomes much harder for a network to memorize particular features. At first this might appear a quite drastic approach which affects the network architecture strongly.\n",
    "In practice, however, dropout is computationally a very elegant solution which does not affect training speed. And it frequently works very well.\n",
    "\n",
    "**Important to note:** Dropout layers will only randomly silence nodes during training! During a prediction step, all nodes remain active (dropout is off). During training, the sample of nodes that are silenced are different for each training instance, to give all nodes a chance to observe enough training data to learn its weights.\n",
    "\n",
    "Let us add a dropout layer after each pooling layer towards the end of the network that randomly drops 80% of the nodes."
   ]
  },
  {
   "cell_type": "code",
   "execution_count": null,
   "id": "3a597a9a",
   "metadata": {},
   "outputs": [],
   "source": [
    "def create_nn_with_dropout():\n",
    "    inputs = keras.Input(shape=train_images.shape[1:])\n",
    "    x = keras.layers.Conv2D(50, (3, 3), activation='relu')(inputs)\n",
    "    x = keras.layers.MaxPooling2D((2, 2))(x)\n",
    "    x = keras.layers.Dropout(0.8)(x) # This is new!\n",
    "\n",
    "    x = keras.layers.Conv2D(50, (3, 3), activation='relu')(x)\n",
    "    x = keras.layers.MaxPooling2D((2, 2))(x)\n",
    "    x = keras.layers.Dropout(0.8)(x) # This is new!\n",
    "\n",
    "    x = keras.layers.Conv2D(50, (3, 3), activation='relu')(x)\n",
    "    x = keras.layers.MaxPooling2D((2, 2))(x)\n",
    "    x = keras.layers.Dropout(0.8)(x) # This is new!\n",
    "\n",
    "    x = keras.layers.Flatten()(x)\n",
    "    x = keras.layers.Dense(50, activation='relu')(x)\n",
    "    outputs = keras.layers.Dense(10)(x)\n",
    "    model = keras.Model(inputs=inputs, outputs=outputs, name=\"dropout_model\")\n",
    "    return model\n",
    "\n",
    "model_dropout = create_nn_with_dropout()\n",
    "model_dropout.summary()"
   ]
  },
  {
   "cell_type": "markdown",
   "id": "416dd57e",
   "metadata": {},
   "source": [
    "We can see that the dropout does not alter the dimensions of the image, and has zero parameters.\n",
    "\n",
    "We again compile and train the model."
   ]
  },
  {
   "cell_type": "code",
   "execution_count": null,
   "id": "6c854ace",
   "metadata": {},
   "outputs": [],
   "source": [
    "compile_model(model_dropout)\n",
    "\n",
    "history = model_dropout.fit(train_images, train_labels, epochs=20,\n",
    "                    validation_data=(val_images, val_labels))"
   ]
  },
  {
   "cell_type": "markdown",
   "id": "bc6a2274",
   "metadata": {},
   "source": [
    "And inspect the training results:"
   ]
  },
  {
   "cell_type": "code",
   "execution_count": null,
   "id": "45d6b37d",
   "metadata": {},
   "outputs": [],
   "source": [
    "plot_history(history, ['accuracy', 'val_accuracy'])"
   ]
  },
  {
   "cell_type": "markdown",
   "id": "af197649",
   "metadata": {},
   "source": [
    "![](https://github.com/carpentries-lab/deep-learning-intro/raw/main/episodes/fig/04_training_history_3.png){alt=\"Plot of training accuracy and validation accuracy vs epochs for the trained model\"}\n",
    "\n",
    "Now we see that the gap between the training accuracy and validation accuracy is much smaller, and that the final accuracy on the validation set is higher than without dropout.\n",
    "\n",
    "::: challenge\n",
    "## Vary dropout rate\n",
    "1. What do you think would happen if you lower the dropout rate? Try it out, and\n",
    "  see how it affects the model training.\n",
    "2. You are varying the dropout rate and checking its effect on the model performance,\n",
    "  what is the term associated to this procedure?\n",
    "\n",
    ":::\n",
    "\n",
    "### Hyperparameter tuning\n",
    "\n",
    "Recall that hyperparameters are model configuration settings that are chosen before the training process and affect the model's learning behavior and performance, for example the dropout rate. In general, if you are varying hyperparameters to find the combination of hyperparameters with the best model performance this is called hyperparameter tuning. A naive way to do this is to write a for-loop and train a slightly different model in every cycle.\n",
    "However, it is better to use the `keras_tuner` package for this.\n",
    "\n",
    "Let's first define a function that creates a neuronal network given 2 hyperparameters, namely the dropout rate and the number of layers:"
   ]
  },
  {
   "cell_type": "code",
   "execution_count": null,
   "id": "dfc8eaed",
   "metadata": {},
   "outputs": [],
   "source": [
    "def create_nn_with_hp(dropout_rate, n_layers):\n",
    "    inputs = keras.Input(shape=train_images.shape[1:])\n",
    "    x = inputs\n",
    "    for layer in range(n_layers):\n",
    "        x = keras.layers.Conv2D(50, (3, 3), activation='relu')(x)\n",
    "        x = keras.layers.MaxPooling2D((2, 2))(x)\n",
    "    x = keras.layers.Dropout(dropout_rate)(x)\n",
    "    x = keras.layers.Flatten()(x)\n",
    "    x = keras.layers.Dense(50, activation='relu')(x)\n",
    "    outputs = keras.layers.Dense(10)(x)\n",
    "    model = keras.Model(inputs=inputs, outputs=outputs, name=\"cifar_model\")\n",
    "    return model"
   ]
  },
  {
   "cell_type": "markdown",
   "id": "76a01105",
   "metadata": {},
   "source": [
    "Now, let's find the best combination of hyperparameters using grid search.\n",
    "Grid search is the simplest hyperparameter tuning strategy,\n",
    "you test all the combinations of predefined values for the hyperparameters that you want to vary.\n",
    "\n",
    "For this we will make use of the package `keras_tuner`, we can install it by typing in the command line:"
   ]
  },
  {
   "cell_type": "code",
   "execution_count": null,
   "id": "a637fbbc",
   "metadata": {},
   "outputs": [],
   "source": [
    "pip install keras_tuner"
   ]
  },
  {
   "cell_type": "markdown",
   "id": "71a8442e",
   "metadata": {},
   "source": [
    "Note that this can take some time to train (around 5 minutes or longer)."
   ]
  },
  {
   "cell_type": "code",
   "execution_count": null,
   "id": "003b3094",
   "metadata": {},
   "outputs": [],
   "source": [
    "import keras_tuner\n",
    "\n",
    "hp = keras_tuner.HyperParameters()\n",
    "\n",
    "def build_model(hp):\n",
    "    # Define values for hyperparameters to try out:\n",
    "    n_layers = hp.Int(\"n_layers\", min_value=1, max_value=2, step=1)\n",
    "    dropout_rate = hp.Float(\"dropout_rate\", min_value=0.2, max_value=0.8, step=0.3)\n",
    "\n",
    "    model = create_nn_with_hp(dropout_rate, n_layers)\n",
    "    compile_model(model)\n",
    "    return model\n",
    "\n",
    "tuner = keras_tuner.GridSearch(build_model, objective='val_loss')\n",
    "\n",
    "tuner.search(train_images, train_labels, epochs=20,\n",
    "             validation_data=(val_images, val_labels))"
   ]
  },
  {
   "cell_type": "markdown",
   "id": "1a80873e",
   "metadata": {},
   "source": [
    "Let's have a look at the results:"
   ]
  },
  {
   "cell_type": "code",
   "execution_count": null,
   "id": "dde49d90",
   "metadata": {},
   "outputs": [],
   "source": [
    "tuner.results_summary()"
   ]
  },
  {
   "cell_type": "markdown",
   "id": "164e00a4",
   "metadata": {},
   "source": [
    "::: challenge\n",
    "\n",
    "## Hyperparameter tuning\n",
    "\n",
    "1: Looking at the grid search results, select all correct statements:\n",
    "\n",
    "- A. 6 different models were trained in this grid search run, because there are 6 possible combinations for the defined hyperparameter values\n",
    "- B. 2 different models were trained, 1 for each hyperparameter that we want to change\n",
    "- C. 1 model is trained with 6 different hyperparameter combinations\n",
    "- D. The model with 2 layer and a dropout rate of 0.5 is the best model with a validation loss of 2.144\n",
    "- E. The model with 2 layers and a dropout rate of 0.8 is the best model with a validation loss of 2.086\n",
    "- F. We found the model with the best possible combination of dropout rate and number of layers\n",
    "\n",
    "2 (Optional): Perform a grid search finding the best combination of the following hyperparameters: 2 different activation functions: 'relu', and 'tanh', and 2 different values for the kernel size: 3 and 4. Which combination works best?\n",
    "\n",
    "**Hint**: Instead of `hp.Int` you should now use `hp.Choice(\"name\", [\"value1\", \"value2\"])` to use hyperparameters from a predefined set of possible values.\n",
    "\n",
    ":::\n",
    "\n",
    "Grid search can quickly result in a combinatorial explosion because all combinations of hyperparameters are trained and tested.\n",
    "Instead, `random search` randomly samples combinations of hyperparemeters, allowing for a much larger look through a large number of possible hyperparameter combinations.\n",
    "\n",
    "Next to grid search and random search there are many different hyperparameter tuning strategies, including [neural architecture search](https://en.wikipedia.org/wiki/Neural_architecture_search) where a separate neural network is trained to find the best architecture for a model!\n",
    "\n",
    "## 10. Share model\n",
    "Let's save our model"
   ]
  },
  {
   "cell_type": "code",
   "execution_count": null,
   "id": "55fdd6db",
   "metadata": {},
   "outputs": [],
   "source": [
    "model.save('cnn_model.keras')"
   ]
  },
  {
   "cell_type": "markdown",
   "id": "69e60826",
   "metadata": {},
   "source": [
    "## Conclusion and next steps\n",
    "How successful were we with creating a model here?\n",
    "With ten image classes, and assuming that we would not ask the model to classify an image that contains none of the given classes of object, a model working on complete guesswork would be correct 10% of the time.\n",
    "Against this baseline accuracy of 10%, and considering the diversity and relatively low resolution of the example images, perhaps our last model's validation accuracy of ~30% is not too bad.\n",
    "What could be done to improve on this performance?\n",
    "We might try adjusting the number of layers and their parameters, such as the number of units in a layer, or providing more training data (we were using only a subset of the original Dollar Street dataset here).\n",
    "Or we could explore some other deep learning techniques, such as transfer learning, to create more sophisticated models.\n",
    "\n",
    "::: keypoints\n",
    "- Convolutional layers make efficient reuse of model parameters.\n",
    "- Pooling layers decrease the resolution of your input\n",
    "- Dropout is a way to prevent overfitting\n",
    ":::"
   ]
  }
 ],
 "metadata": {},
 "nbformat": 4,
 "nbformat_minor": 5
}
