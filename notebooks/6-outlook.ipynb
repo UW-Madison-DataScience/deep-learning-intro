{
 "cells": [
  {
   "cell_type": "markdown",
   "id": "7e8c7463",
   "metadata": {},
   "source": [
    "# Outlook"
   ]
  },
  {
   "cell_type": "markdown",
   "id": "b82b3fb6",
   "metadata": {},
   "source": [
    "## Questions\n",
    "\n",
    "- How does what I learned in this course translate to real-world problems?\n",
    "- How do I organise a deep learning project?\n",
    "- What are next steps to take after this course?\n",
    "\n",
    "## Objectives\n",
    "\n",
    "- Understand that what we learned in this course can be applied to real-world problems\n",
    "- Use best practices for organising a deep learning project\n",
    "- Identify next steps to take after this course\n",
    "\n",
    "You have come to the end of this course.\n",
    "In this episode we will look back at what we have learned so far, how to apply that to real-world problems, and identify\n",
    "next steps to take to start applying deep learning in your own projects.\n",
    "\n",
    "## Real-world application\n",
    "To introduce the core concepts of deep learning we have used quite simple machine learning problems.\n",
    "But how does what we learned so far apply to real-world applications?\n",
    "\n",
    "To illustrate that what we learned is actually the basis of successful applications in research,\n",
    "we will have a look at an example from the field of [cheminformatics](https://en.wikipedia.org/wiki/Cheminformatics).\n",
    "\n",
    "\n",
    "We will have a look at [this notebook](https://github.com/matchms/ms2deepscore/blob/0.4.0/notebooks/MS2DeepScore_tutorial.ipynb).\n",
    "It is part of the codebase for [this paper](https://doi.org/10.1186/s13321-021-00558-4).\n",
    "\n",
    "In short, the deep learning problem is that of finding out how similar two molecules are in terms of their molecular properties,\n",
    "based on their mass spectrum.\n",
    "You can compare this to comparing two pictures of animals, and predicting how similar they are.\n",
    "\n",
    "A Siamese neural network is used to solve the problem.\n",
    "In a Siamese neural network you have two input vectors, let's say two images of animals or two mass spectra.\n",
    "They pass through a base network. Instead of outputting a class or number with one or a few output neurons, the output layer\n",
    "of the base network is a whole vector of for example 100 neurons. After passing through the base network, you end up with two of these\n",
    "vectors representing the two inputs. The goal of the base network is to output a meaningful representation of the input (this is called an embedding).\n",
    "The next step is to compute the cosine similarity between these two output vectors,\n",
    "cosine similarity is a measure for how similar two vectors are to each other, ranging from 0 (completely different) to 1 (identical).\n",
    "This cosine similarity is compared to the actual similarity between the two inputs and this error is used to update the weights in the network.\n",
    "\n",
    "Don't worry if you do not fully understand the deep learning problem and the approach that is taken here.\n",
    "We just want you to appreciate that you already learned enough to be able to do this yourself in your own domain.\n",
    "\n",
    "## Challenge: Exercise: A real-world deep learning application\n",
    "\n",
    "1. Looking at the 'Model training' section of the notebook, what do you recognize from what you learned in this course?\n",
    "2. Can you identify the different steps of the deep learning workflow in this notebook?\n",
    "3. (Optional): Try to understand the neural network architecture from the first figure of [the paper](https://doi.org/10.1186/s13321-021-00558-4).\n",
    "    a. Why are there 10.000 neurons in the input layer?\n",
    "    b. What do you think would happen if you would decrease the size of spectral embedding layer drastically, to for example 5 neurons?"
   ]
  },
  {
   "cell_type": "code",
   "execution_count": null,
   "id": "1e0c8231",
   "metadata": {},
   "outputs": [],
   "source": []
  },
  {
   "cell_type": "markdown",
   "id": "509c190b",
   "metadata": {},
   "source": [
    "Hopefully you can appreciate that what you learned in this course, can be applied to real-world problems as well.\n",
    "\n",
    "## Callout: Extensive data preparation\n",
    "\n",
    "You might have noticed that the data preparation for this example is much more extensive than what we have done so far\n",
    "in this course. This is quite common for applied deep learning projects. It is said that 90% of the time in a\n",
    "deep learning problem is spent on data preparation, and only 10% on modeling!"
   ]
  }
 ],
 "metadata": {},
 "nbformat": 4,
 "nbformat_minor": 5
}
