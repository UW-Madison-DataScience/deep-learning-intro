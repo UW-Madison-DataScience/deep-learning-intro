{
 "cells": [
  {
   "cell_type": "markdown",
   "id": "d9dd306d",
   "metadata": {},
   "source": [
    "# Classification by a neural network using Keras"
   ]
  },
  {
   "cell_type": "markdown",
   "id": "d3a7c237",
   "metadata": {},
   "source": [
    "## Questions\n",
    "\n",
    "- How do I compose a neural network using Keras?\n",
    "- How do I train this network on a dataset?\n",
    "- How do I get insight into learning process?\n",
    "- How do I measure the performance of the network?:::\n",
    "\n",
    "## Objectives\n",
    "\n",
    "- Use the deep learning workflow to structure the notebook\n",
    "- Explore the dataset using pandas and seaborn\n",
    "- Identify the inputs and outputs of a deep neural network.\n",
    "- Use one-hot encoding to prepare data for classification in Keras\n",
    "- Describe a fully connected layer\n",
    "- Implement a fully connected layer with Keras\n",
    "- Use Keras to train a small fully connected network on prepared data\n",
    "- Interpret the loss curve of the training process\n",
    "- Use a confusion matrix to measure the trained networks' performance on a test set:::\n",
    "\n",
    "\n",
    "## Introduction\n",
    "In this episode we will learn how to create and train a neural network using Keras to solve a simple classification task.\n",
    "\n",
    "The goal of this episode is to quickly get your hands dirty in actually defining and training a neural network,\n",
    "without going into depth of how neural networks work on a technical or mathematical level.\n",
    "We want you to go through the full deep learning workflow once before going into more details.\n",
    "\n",
    "In fact, this is also what we would recommend you to do when working on real-world problems:\n",
    "First quickly build a working pipeline, while taking shortcuts.\n",
    "Then, slowly make the pipeline more advanced while you keep on evaluating the approach.\n",
    "\n",
    "In [episode 3](episodes/3-monitor-the-model.md) we will expand on the concepts that are lightly introduced in this episode.\n",
    "Some of these concepts include: how to monitor the training progress and how optimization works.\n",
    "\n",
    "::: instructor\n",
    "It is good to stress the goal for this episode a few times, because learners will usually have a lot of questions like:\n",
    "'Why don't we normalize our features' or 'Why do we choose Adam optimizer?'.\n",
    "It can be a good idea to park some of these questions for discussion in episode 3 and 4.\n",
    ":::\n",
    "\n",
    "As a reminder below are the steps of the deep learning workflow:\n",
    "\n",
    "1. Formulate / Outline the problem\n",
    "2. Identify inputs and outputs\n",
    "3. Prepare data\n",
    "4. Choose a pretrained model or start building architecture from scratch\n",
    "5. Choose a loss function and optimizer\n",
    "6. Train the model\n",
    "7. Perform a Prediction/Classification\n",
    "8. Measure performance\n",
    "9. Refine the model\n",
    "10. Save model\n",
    "\n",
    "In this episode we will focus on a minimal example for each of these steps, later episodes will build on this knowledge to go into greater depth for some or all of these steps.\n",
    "\n",
    "## Callout: GPU usage\n",
    "\n",
    "For this lesson having a [GPU (graphics processing unit)](https://glosario.carpentries.org/en/#gpu) available is not needed.\n",
    "We specifically use very small toy problems so that you do not need one.\n",
    "However, Keras will use your GPU automatically when it is available.\n",
    "Using a GPU becomes necessary when tackling larger datasets or complex problems which\n",
    "require a more complex neural network.:::\n",
    "\n",
    "## 1. Formulate/outline the problem: penguin classification\n",
    "In this episode we will be using the [penguin dataset](https://zenodo.org/record/3960218). This is a dataset that was published in 2020 by Allison Horst and contains data on three different species of the penguins.\n",
    "\n",
    "We will use the penguin dataset to train a neural network which can classify which species a\n",
    "penguin belongs to, based on their physical characteristics.\n",
    "\n",
    "## Callout: Goal\n",
    "\n",
    "The goal is to predict a penguins' species using the attributes available in this dataset.:::\n",
    "\n",
    "The `palmerpenguins` data contains size measurements for three penguin species observed on three islands in the Palmer Archipelago, Antarctica.\n",
    "The physical attributes measured are flipper length, beak length, beak width, body mass, and sex.\n",
    "\n",
    "![*Artwork by @allison_horst*](https://github.com/carpentries-lab/deep-learning-intro/raw/main/episodes/fig/palmer_penguins.png)\n",
    "\n",
    "\n",
    "![*Artwork by @allison_horst*](https://github.com/carpentries-lab/deep-learning-intro/raw/main/episodes/fig/culmen_depth.png)\n",
    "\n",
    "\n",
    "These data were collected from 2007 - 2009 by Dr. Kristen Gorman with the [Palmer Station Long Term Ecological Research Program](https://lternet.edu/site/palmer-antarctica-lter/), part of the [US Long Term Ecological Research Network](https://lternet.edu/). The data were imported directly from the [Environmental Data Initiative](https://edirepository.org/) (EDI) Data Portal, and are available for use by CC0 license (\"No Rights Reserved\") in accordance with the [Palmer Station Data Policy](https://lternet.edu/data-access-policy/).\n",
    "\n",
    "## 2. Identify inputs and outputs\n",
    "To identify the inputs and outputs that we will use to design the neural network we need to familiarize\n",
    "ourselves with the dataset. This step is sometimes also called data exploration.\n",
    "\n",
    "We will start by importing the [Seaborn](https://seaborn.pydata.org/) library that will help us get the dataset and visualize it.\n",
    "Seaborn is a powerful library with many visualizations. Keep in mind it requires the data to be in a\n",
    "pandas dataframe, luckily the datasets available in seaborn are already in a pandas dataframe."
   ]
  },
  {
   "cell_type": "code",
   "execution_count": null,
   "id": "7a9ef130",
   "metadata": {},
   "outputs": [],
   "source": [
    "import seaborn as sns"
   ]
  },
  {
   "cell_type": "markdown",
   "id": "9665daf0",
   "metadata": {},
   "source": [
    "We can load the penguin dataset using"
   ]
  },
  {
   "cell_type": "code",
   "execution_count": null,
   "id": "c6449f02",
   "metadata": {},
   "outputs": [],
   "source": [
    "penguins = sns.load_dataset('penguins')"
   ]
  },
  {
   "cell_type": "markdown",
   "id": "74cfb966",
   "metadata": {},
   "source": [
    "This will give you a pandas dataframe which contains the penguin data.\n",
    "\n",
    "### Inspecting the data\n",
    "Using the pandas `head` function gives us a quick look at the data:"
   ]
  },
  {
   "cell_type": "code",
   "execution_count": null,
   "id": "d6cf26d7",
   "metadata": {},
   "outputs": [],
   "source": [
    "penguins.head()"
   ]
  },
  {
   "cell_type": "markdown",
   "id": "d7ae097f",
   "metadata": {},
   "source": [
    "|       | species | island | bill_length_mm | bill_depth_mm | flipper_length_mm | body_mass_g | sex  |\n",
    " |------:|---------------:|--------------:|------------------:|------------:|------------:|------------:|------------:|\n",
    " | 0 | Adelie | Torgersen | 39.1 | 18.7 | 181.0 | 3750.0 | Male   |\n",
    " | 1 | Adelie | Torgersen | 39.5 | 17.4 | 186.0 | 3800.0 | Female |\n",
    " | 2 | Adelie | Torgersen | 40.3 | 18.0 | 195.0 | 3250.0 | Female |\n",
    " | 3 | Adelie | Torgersen | NaN  | NaN  | NaN   | NaN    | NaN    |\n",
    " | 4 | Adelie | Torgersen | 36.7 | 19.3 | 193.0 | 3450.0 | Female |\n",
    "\n",
    " We can use all columns as features to predict the species of the penguin, except for the `species` column itself.\n",
    "\n",
    "Let's look at the shape of the dataset:"
   ]
  },
  {
   "cell_type": "code",
   "execution_count": null,
   "id": "8d7e5416",
   "metadata": {},
   "outputs": [],
   "source": [
    "penguins.shape"
   ]
  },
  {
   "cell_type": "markdown",
   "id": "c693ee86",
   "metadata": {},
   "source": [
    "There are 344 samples and 7 columns (plus the index column), so 6 features.\n",
    "\n",
    "### Visualization\n",
    "Looking at numbers like this usually does not give a very good intuition about the data we are\n",
    "working with, so let us create a visualization.\n",
    "\n",
    "#### Pair Plot\n",
    "One nice visualization for datasets with relatively few attributes is the Pair Plot.\n",
    "This can be created using `sns.pairplot(...)`. It shows a scatterplot of each attribute plotted against each of the other attributes.\n",
    "By using the `hue='species'` setting for the pairplot the graphs on the diagonal are layered kernel density estimate plots for the different values of the `species` column."
   ]
  },
  {
   "cell_type": "code",
   "execution_count": null,
   "id": "533cdffe",
   "metadata": {},
   "outputs": [],
   "source": [
    "sns.pairplot(penguins, hue=\"species\")"
   ]
  },
  {
   "cell_type": "markdown",
   "id": "715ab5b7",
   "metadata": {},
   "source": [
    "## Challenge: Pairplot\n",
    "\n",
    "Take a look at the pairplot we created. Consider the following questions:\n",
    "\n",
    "* Is there any class that is easily distinguishable from the others?\n",
    "* Which combination of attributes shows the best separation for all 3 class labels at once?\n",
    "* (optional) Create a similar pairplot, but with `hue=\"sex\"`. Explain the patterns you see.\n",
    "Which combination of features distinguishes the two sexes best?:::\n",
    "\n",
    "### Input and Output Selection\n",
    "Now that we have familiarized ourselves with the dataset we can select the data attributes to use\n",
    "as input for the neural network and the target that we want to predict.\n",
    "\n",
    "In the rest of this episode we will use the `bill_length_mm`, `bill_depth_mm`, `flipper_length_mm`, `body_mass_g` attributes.\n",
    "The target for the classification task will be the `species`.\n",
    "\n",
    "## Callout: Data Exploration\n",
    "\n",
    "Exploring the data is an important step to familiarize yourself with the problem and to help you\n",
    "determine the relevant inputs and outputs.:::\n",
    "\n",
    "## 3. Prepare data\n",
    "The input data and target data are not yet in a format that is suitable to use for training a neural network.\n",
    "\n",
    "\n",
    "For now we will only use the numerical features `bill_length_mm`, `bill_depth_mm`, `flipper_length_mm`, `body_mass_g` only,\n",
    "so let's drop the categorical columns:"
   ]
  },
  {
   "cell_type": "code",
   "execution_count": null,
   "id": "9c8354c2",
   "metadata": {},
   "outputs": [],
   "source": [
    "# Drop categorical columns\n",
    "penguins_filtered = penguins.drop(columns=['island', 'sex'])"
   ]
  },
  {
   "cell_type": "markdown",
   "id": "1f5e693b",
   "metadata": {},
   "source": [
    "### Clean missing values\n",
    "During the exploration phase you may have noticed that some rows in the dataset have missing (NaN)\n",
    "values, leaving such values in the input data will ruin the training, so we need to deal with them.\n",
    "There are many ways to deal with missing values, but for now we will just remove the offending rows by adding a call to `dropna()`:"
   ]
  },
  {
   "cell_type": "code",
   "execution_count": null,
   "id": "371b7f42",
   "metadata": {},
   "outputs": [],
   "source": [
    "# Drop the rows that have NaN values in them\n",
    "penguins_filtered = penguins_filtered.dropna()"
   ]
  },
  {
   "cell_type": "markdown",
   "id": "e848989a",
   "metadata": {},
   "source": [
    "Finally, we select only the features"
   ]
  },
  {
   "cell_type": "code",
   "execution_count": null,
   "id": "26acf683",
   "metadata": {},
   "outputs": [],
   "source": [
    "# Extract columns corresponding to features\n",
    "features = penguins_filtered.drop(columns=['species'])"
   ]
  },
  {
   "cell_type": "markdown",
   "id": "0d1854d7",
   "metadata": {},
   "source": [
    "### Prepare target data for training\n",
    "Second, the target data is also in a format that cannot be used in training.\n",
    "A neural network can only take numerical inputs and outputs, and learns by\n",
    "calculating how \"far away\" the species predicted by the neural network is\n",
    "from the true species.\n",
    "\n",
    "When the target is a string category column as we have here, we need to transform this column into a numerical format first.\n",
    "Again, there are many ways to do this. We will be using the one-hot encoding.\n",
    "This encoding creates multiple columns, as many as there are unique values, and\n",
    "puts a 1 in the column with the corresponding correct class, and 0's in\n",
    "the other columns.\n",
    "For instance, for a penguin of the Adelie species the one-hot encoding would be 1 0 0.\n",
    "\n",
    "Fortunately, Pandas is able to generate this encoding for us."
   ]
  },
  {
   "cell_type": "code",
   "execution_count": null,
   "id": "81408cc9",
   "metadata": {},
   "outputs": [],
   "source": [
    "import pandas as pd\n",
    "\n",
    "target = pd.get_dummies(penguins_filtered['species'])\n",
    "target.head() # print out the top 5 to see what it looks like."
   ]
  },
  {
   "cell_type": "markdown",
   "id": "f9671e6c",
   "metadata": {},
   "source": [
    "## Challenge: One-hot encoding\n",
    "\n",
    "How many output neurons will our network have now that we one-hot encoded the target class?\n",
    "\n",
    "* A: 1\n",
    "* B: 2\n",
    "* C: 3:::\n",
    "\n",
    "### Split data into training and test set\n",
    "Finally, we will split the dataset into a training set and a test set.\n",
    "As the names imply we will use the training set to train the neural network,\n",
    "while the test set is kept separate.\n",
    "We will use the test set to assess the performance of the trained neural network\n",
    "on unseen samples.\n",
    "In many cases a validation set is also kept separate from the training and test sets (i.e. the dataset is split into 3 parts).\n",
    "This validation set is then used to select the values of the parameters of the neural network and the training methods.\n",
    "For this episode we will keep it at just a training and test set however.\n",
    "\n",
    "To split the cleaned dataset into a training and test set we will use a very convenient\n",
    "function from sklearn called `train_test_split`.\n",
    "\n",
    "This function takes a number of parameters which are extensively explained in [the scikit-learn documentation](https://scikit-learn.org/stable/modules/generated/sklearn.model_selection.train_test_split.html) :\n",
    "\n",
    "- The first two parameters are the dataset (in our case `features`) and the corresponding targets (i.e. defined as target).\n",
    "- Next is the named parameter `test_size` this is the fraction of the dataset that is\n",
    "used for testing, in this case `0.2` means 20% of the data will be used for testing.\n",
    "- `random_state` controls the shuffling of the dataset, setting this value will reproduce\n",
    "the same results (assuming you give the same integer) every time it is called.\n",
    "- `shuffle` which can be either `True` or `False`, it controls whether the order of the rows of the dataset is shuffled before splitting. It defaults to `True`.\n",
    "- `stratify` is a more advanced parameter that controls how the split is done. By setting it to `target` the train and test sets the function will return will have roughly the same proportions (with regards to the number of penguins of a certain species) as the dataset."
   ]
  },
  {
   "cell_type": "code",
   "execution_count": null,
   "id": "a81ebb6b",
   "metadata": {},
   "outputs": [],
   "source": [
    "from sklearn.model_selection import train_test_split\n",
    "\n",
    "X_train, X_test, y_train, y_test = train_test_split(features, target, test_size=0.2, random_state=0, shuffle=True, stratify=target)"
   ]
  },
  {
   "cell_type": "markdown",
   "id": "6330c74a",
   "metadata": {},
   "source": [
    "## Callout: Importance of using the same train-test split\n",
    "\n",
    "By setting `random_state=0` we ensure that everyone has the same train-test split.\n",
    "When doing machine learning and deep learning it is crucial that you use the same train and test dataset for different experiments.\n",
    "Comparing evaluation metrics between experiments run on different data splits is meaningless,\n",
    "because the accuracy of a model depends on the data used to train and test it.:::\n",
    "\n",
    "::: instructor\n",
    "## BREAK\n",
    "This is a good time for switching instructor and/or a break.\n",
    ":::\n",
    "\n",
    "## 4. Build an architecture from scratch\n",
    "\n",
    "### Keras for neural networks\n",
    "\n",
    "Keras is a machine learning framework with ease of use as one of its main features.\n",
    "It is part of the tensorflow python package and can be imported using `from tensorflow import keras`.\n",
    "\n",
    "Keras includes functions, classes and definitions to define deep learning models, cost functions and optimizers (optimizers are used to train a model).\n",
    "\n",
    "Before we move on to the next section of the workflow we need to make sure we have Keras imported.\n",
    "We do this as follows:"
   ]
  },
  {
   "cell_type": "code",
   "execution_count": null,
   "id": "58daf8df",
   "metadata": {},
   "outputs": [],
   "source": [
    "from tensorflow import keras"
   ]
  },
  {
   "cell_type": "markdown",
   "id": "965f0e3e",
   "metadata": {},
   "source": [
    "For this episode it is useful if everyone gets the same results from their training.\n",
    "Keras uses a random number generator at certain points during its execution.\n",
    "Therefore we will need to set two random seeds, one for numpy and one for tensorflow:"
   ]
  },
  {
   "cell_type": "code",
   "execution_count": null,
   "id": "2a4c39a7",
   "metadata": {},
   "outputs": [],
   "source": [
    "from numpy.random import seed\n",
    "seed(1)\n",
    "keras.utils.set_random_seed(2)"
   ]
  },
  {
   "cell_type": "markdown",
   "id": "cd0d15d5",
   "metadata": {},
   "source": [
    "## Callout: When to use random seeds?\n",
    "\n",
    "We use a random seed here to ensure that we get the same results every time we run this code.\n",
    "This makes our results reproducible and allows us to better compare results between different experiments.\n",
    "\n",
    "Please note that even though you have selected a random seed, this seed is used to generate a\n",
    "**different** random number every time you execute a Jupyter cell.\n",
    "So, to get truly replicable deep learning pipelines you need to run the notebook from start to end in one go.:::\n",
    "\n",
    "### Build a neural network from scratch\n",
    "\n",
    "We will now build a simple neural network from scratch using Keras.\n",
    "\n",
    "With Keras you compose a neural network by creating layers and linking them\n",
    "together. For now we will only use one type of layer called a fully connected\n",
    "or Dense layer. In Keras this is defined by the `keras.layers.Dense` class.\n",
    "\n",
    "A dense layer has a number of neurons, which is a parameter you can choose when\n",
    "you create the layer.\n",
    "When connecting the layer to its input and output layers every neuron in the dense\n",
    "layer gets an edge (i.e. connection) to ***all*** of the input neurons and ***all*** of the output neurons.\n",
    "The hidden layer in the image in the introduction of this episode is a Dense layer.\n",
    "\n",
    "The input in Keras also gets special treatment, Keras automatically calculates the number of inputs\n",
    "and outputs a layer needs and therefore how many edges need to be created.\n",
    "This means we need to inform Keras how big our input is going to be. We do this by instantiating a `keras.Input` class and tell it how big our input is, thus the number of columns it contains."
   ]
  },
  {
   "cell_type": "code",
   "execution_count": null,
   "id": "b395e6c4",
   "metadata": {},
   "outputs": [],
   "source": [
    "inputs = keras.Input(shape=(X_train.shape[1],))"
   ]
  },
  {
   "cell_type": "markdown",
   "id": "0482e40e",
   "metadata": {},
   "source": [
    "We store a reference to this input class in a variable so we can pass it to the creation of\n",
    "our hidden layer.\n",
    "Creating the hidden layer can then be done as follows:"
   ]
  },
  {
   "cell_type": "code",
   "execution_count": null,
   "id": "320a0e1c",
   "metadata": {},
   "outputs": [],
   "source": [
    "hidden_layer = keras.layers.Dense(10, activation=\"relu\")(inputs)"
   ]
  },
  {
   "cell_type": "markdown",
   "id": "a9add95b",
   "metadata": {},
   "source": [
    "The instantiation here has 2 parameters and a seemingly strange combination of parentheses, so\n",
    "let us take a closer look.\n",
    "The first parameter `10` is the number of neurons we want in this layer, this is one of the\n",
    "hyperparameters of our system and needs to be chosen carefully. We will get back to this in the section\n",
    "on refining the model.\n",
    "\n",
    "The second parameter is the activation function to use. We choose `relu` which returns 0\n",
    "for inputs that are 0 and below and the identity function (returning the same value)\n",
    "for inputs above 0.\n",
    "This is a commonly used activation function in deep neural networks that is proven to work well.\n",
    "\n",
    "Next we see an extra set of parenthenses with inputs in them. This means that after creating an\n",
    "instance of the Dense layer we call it as if it was a function.\n",
    "This tells the Dense layer to connect the layer passed as a parameter, in this case the inputs.\n",
    "\n",
    "Finally we store a reference in the `hidden_layer` variable so we can pass it to the output layer in a minute.\n",
    "\n",
    "Now we create another layer that will be our output layer.\n",
    "Again we use a Dense layer and so the call is very similar to the previous one."
   ]
  },
  {
   "cell_type": "code",
   "execution_count": null,
   "id": "d9a22b5f",
   "metadata": {},
   "outputs": [],
   "source": [
    "output_layer = keras.layers.Dense(3, activation=\"softmax\")(hidden_layer)"
   ]
  },
  {
   "cell_type": "markdown",
   "id": "d101410f",
   "metadata": {},
   "source": [
    "Because we chose the one-hot encoding, we use three neurons for the output layer.\n",
    "\n",
    "The `softmax` activation ensures that the three output neurons produce values in the range\n",
    "(0, 1) and they sum to 1.\n",
    "We can interpret this as a kind of 'probability' that the sample belongs to a certain\n",
    "species.\n",
    "\n",
    "Now that we have defined the layers of our neural network we can combine them into\n",
    "a Keras model which facilitates training the network."
   ]
  },
  {
   "cell_type": "code",
   "execution_count": null,
   "id": "3f2584d7",
   "metadata": {},
   "outputs": [],
   "source": [
    "model = keras.Model(inputs=inputs, outputs=output_layer)\n",
    "model.summary()"
   ]
  },
  {
   "cell_type": "markdown",
   "id": "ab683b0c",
   "metadata": {},
   "source": [
    "The model summary here can show you some information about the neural network we have defined.\n",
    "\n",
    "## Callout: Trainable and non-trainable parameters\n",
    "\n",
    "Keras distinguishes between two types of weights, namely:\n",
    "\n",
    "- trainable parameters: these are weights of the neurons that are modified when we train the model in order to minimize our loss function (we will learn about loss functions shortly!).\n",
    "\n",
    "- non-trainable parameters: these are weights of the neurons that are not changed when we train the model. These could be for many reasons - using a pre-trained model, choice of a particular filter for a convolutional neural network, and statistical weights for batch normalization are some examples.  \n",
    "\n",
    "If these reasons are not clear right away, don't worry! In later episodes of this course, we will touch upon a couple of these concepts.::: \n",
    "\n",
    "\n",
    "::: instructor\n",
    "For optional question 3 in the challenge below named 'Visualizing the model', the goal is to visualize the network. It supplements the textual explanation of output from `model.summary()`.\n",
    "You could choose to show and discuss the resulting visualization to the learners, so that learners who did not finish the optional exercise can also learn from the visualization of the model.\n",
    ":::\n",
    "\n",
    "\n",
    "## Challenge: Create the neural network\n",
    "\n",
    "With the code snippets above, we defined a Keras model with 1 hidden layer with\n",
    "10 neurons and an output layer with 3 neurons.\n",
    "\n",
    "1. How many parameters does the resulting model have?\n",
    "2. What happens to the number of parameters if we increase or decrease the number of neurons\n",
    " in the hidden layer?\n",
    "\n",
    "#### (optional) Visualizing the model\n",
    "Optionally, you can also visualize the same information as `model.summary()` in graph form.\n",
    "This step requires the command-line tool `dot` from Graphviz installed, you installed it by following the setup instructions.\n",
    "You can check that the installation was successful by executing `dot -V` in the command line. You should get something\n",
    "as follows:"
   ]
  },
  {
   "cell_type": "code",
   "execution_count": null,
   "id": "e9615872",
   "metadata": {},
   "outputs": [],
   "source": [
    "$ dot -V\n",
    "dot - graphviz version 2.43.0 (0)"
   ]
  },
  {
   "cell_type": "markdown",
   "id": "bf051462",
   "metadata": {},
   "source": [
    "3. (optional) Provided you have `dot` installed, execute the `plot_model` function\n",
    "   as shown below."
   ]
  },
  {
   "cell_type": "code",
   "execution_count": null,
   "id": "ce5f772e",
   "metadata": {},
   "outputs": [],
   "source": [
    "keras.utils.plot_model(\n",
    "    model,\n",
    "    show_shapes=True,\n",
    "    show_layer_names=True,\n",
    "    show_layer_activations=True,\n",
    "    show_trainable=True\n",
    ")"
   ]
  },
  {
   "cell_type": "markdown",
   "id": "bc517643",
   "metadata": {},
   "source": [
    "#### (optional) Keras Sequential vs Functional API\n",
    "So far we have used the [Functional API](https://keras.io/guides/functional_api/) of Keras.\n",
    "You can also implement neural networks using [the Sequential model](https://keras.io/guides/sequential_model/).\n",
    "As you can read in the documentation, the Sequential model is appropriate for **a plain stack of layers**\n",
    "where each layer has **exactly one input tensor and one output tensor**.\n",
    "\n",
    "4. (optional) Use the Sequential model to implement the same network:::\n",
    "\n",
    "\n",
    "## Callout: How to choose an architecture?\n",
    "\n",
    "Even for this small neural network, we had to make a choice on the number of hidden neurons.\n",
    "Other choices to be made are the number of layers and type of layers (as we will see later).\n",
    "You might wonder how you should make these architectural choices.\n",
    "Unfortunately, there are no clear rules to follow here, and it often boils down to a lot of\n",
    "trial and error. However, it is recommended to look what others have done with similar datasets and problems.\n",
    "Another best practice is to start with a relatively simple architecture. Once running start to add layers and tweak the network to see if performance increases.:::\n",
    "\n",
    "### Choose a pretrained model\n",
    "If your data and problem is very similar to what others have done, you can often use a *pretrained network*.\n",
    "Even if your problem is different, but the data type is common (for example images), you can use a pretrained network and finetune it for your problem.\n",
    "A large number of openly available pretrained networks can be found on [Hugging Face](https://huggingface.co/models) (especially LLMs), [MONAI](https://monai.io/) (medical imaging), the [Model Zoo](https://modelzoo.co/), [pytorch hub](https://pytorch.org/hub/) or [tensorflow hub](https://www.tensorflow.org/hub/).\n",
    "\n",
    "We will cover the concept of Transfer Learning in [episode 5](./5-transfer-learning.html)\n",
    "\n",
    "## 5. Choose a loss function and optimizer\n",
    "We have now designed a neural network that in theory we should be able to\n",
    "train to classify Penguins.\n",
    "However, we first need to select an appropriate loss\n",
    "function that we will use during training.\n",
    "This loss function tells the training algorithm how wrong, or how 'far away' from the true\n",
    "value the predicted value is.\n",
    "\n",
    "For the one-hot encoding that we selected earlier a suitable loss function is the Categorical Crossentropy loss.\n",
    "In Keras this is implemented in the `keras.losses.CategoricalCrossentropy` class.\n",
    "This loss function works well in combination with the `softmax` activation function\n",
    "we chose earlier.\n",
    "The Categorical Crossentropy works by comparing the probabilities that the\n",
    "neural network predicts with 'true' probabilities that we generated using the one-hot encoding.\n",
    "This is a measure for how close the distribution of the three neural network outputs corresponds to the distribution of the three values in the one-hot encoding.\n",
    "It is lower if the distributions are more similar.\n",
    "\n",
    "For more information on the available loss functions in Keras you can check the\n",
    "[documentation](https://www.tensorflow.org/api_docs/python/tf/keras/losses).\n",
    "\n",
    "Next we need to choose which optimizer to use and, if this optimizer has parameters, what values\n",
    "to use for those. Furthermore, we need to specify how many times to show the training samples to the optimizer.\n",
    "\n",
    "Once more, Keras gives us plenty of choices all of which have their own pros and cons,\n",
    "but for now let us go with the widely used [Adam optimizer](https://www.tensorflow.org/api_docs/python/tf/keras/optimizers/Adam).\n",
    "Adam has a number of parameters, but the default values work well for most problems.\n",
    "So we will use it with its default parameters.\n",
    "\n",
    "Combining this with the loss function we decided on earlier we can now compile the\n",
    "model using `model.compile`.\n",
    "Compiling the model prepares it to start the training."
   ]
  },
  {
   "cell_type": "code",
   "execution_count": null,
   "id": "d18ddfbb",
   "metadata": {},
   "outputs": [],
   "source": [
    "model.compile(optimizer='adam', loss=keras.losses.CategoricalCrossentropy())"
   ]
  },
  {
   "cell_type": "markdown",
   "id": "9b8f05a5",
   "metadata": {},
   "source": [
    "## 6. Train model\n",
    "We are now ready to train the model.\n",
    "\n",
    "Training the model is done using the `fit` method, it takes the input data and\n",
    "target data as inputs and it has several other parameters for certain options\n",
    "of the training.\n",
    "Here we only set a different number of `epochs`.\n",
    "One training epoch means that every sample in the training data has been shown\n",
    "to the neural network and used to update its parameters."
   ]
  },
  {
   "cell_type": "code",
   "execution_count": null,
   "id": "1a6f1e9b",
   "metadata": {},
   "outputs": [],
   "source": [
    "history = model.fit(X_train, y_train, epochs=100)"
   ]
  },
  {
   "cell_type": "markdown",
   "id": "59888741",
   "metadata": {},
   "source": [
    "The fit method returns a history object that has a history attribute with the training loss and\n",
    "potentially other metrics per training epoch.\n",
    "It can be very insightful to plot the training loss to see how the training progresses.\n",
    "Using seaborn we can do this as follows:"
   ]
  },
  {
   "cell_type": "code",
   "execution_count": null,
   "id": "24f3647a",
   "metadata": {},
   "outputs": [],
   "source": [
    "sns.lineplot(x=history.epoch, y=history.history['loss'])"
   ]
  },
  {
   "cell_type": "markdown",
   "id": "f0727a42",
   "metadata": {},
   "source": [
    "## Callout: I get a different plot\n",
    "\n",
    "It could be that you get a different plot than the one shown here.\n",
    "This could be because of a different random initialization of the model or a different split of the data.\n",
    "This difference can be avoided by setting `random_state` and random seed in the same way like we discussed\n",
    "in [When to use random seeds?](#when-to-use-random-seeds).:::\n",
    "\n",
    "This plot can be used to identify whether the training is well configured or whether there\n",
    "are problems that need to be addressed.\n",
    "\n",
    "## Challenge: The Training Curve\n",
    "\n",
    "Looking at the training curve we have just made.\n",
    "\n",
    "1. How does the training progress?\n",
    "   * Does the training loss increase or decrease?\n",
    "   * Does it change quickly or slowly?\n",
    "   * Does the graph look very jittery?\n",
    "2. Do you think the resulting trained network will work well on the test set?\n",
    "\n",
    "When the training process does not go well:\n",
    "\n",
    "3. (optional) Something went wrong here during training. What could be the problem, and how do you see that in the training curve?\n",
    "Also compare the range on the y-axis with the previous training curve.\n",
    "![bad-training-curve](https://github.com/carpentries-lab/deep-learning-intro/raw/main/episodes/fig/02_bad_training_history_1.png):::\n",
    "\n",
    "## 7. Perform a prediction/classification\n",
    "Now that we have a trained neural network, we can use it to predict new samples\n",
    "of penguin using the `predict` function.\n",
    "\n",
    "We will use the neural network to predict the species of the test set\n",
    "using the `predict` function.\n",
    "We will be using this prediction in the next step to measure the performance of our\n",
    "trained network.\n",
    "This will return a `numpy` matrix, which we convert\n",
    "to a pandas dataframe to easily see the labels."
   ]
  },
  {
   "cell_type": "code",
   "execution_count": null,
   "id": "e3bc9a62",
   "metadata": {},
   "outputs": [],
   "source": [
    "y_pred = model.predict(X_test)\n",
    "prediction = pd.DataFrame(y_pred, columns=target.columns)\n",
    "prediction"
   ]
  },
  {
   "cell_type": "markdown",
   "id": "4da5a8f5",
   "metadata": {},
   "source": [
    "|     |          |           |          |\n",
    "| --: | -------: | --------: | -------: |\n",
    "| 0   | 0.304484 | 0.192893  | 0.502623 |\n",
    "| 1   | 0.527107 | 0.095888  | 0.377005 |\n",
    "| 2   | 0.373989 | 0.195604  | 0.430406 |\n",
    "| 3   | 0.493643 | 0.154104  | 0.352253 |\n",
    "| 4   | 0.309051 | 0.308646  | 0.382303 |\n",
    "| ... | ...      | ...       | ...      |\n",
    "| 64  | 0.406074 | 0.191430  | 0.402496 |\n",
    "| 65  | 0.645621 | 0.077174  | 0.277204 |\n",
    "| 66  | 0.356284 | 0.185958  | 0.457758 |\n",
    "| 67  | 0.393868 | 0.159575  | 0.446557 |\n",
    "| 68  | 0.509837 | 0.144219  | 0.345943 |\n",
    "\n",
    "\n",
    "Remember that the output of the network uses the `softmax` activation function and has three\n",
    "outputs, one for each species. This dataframe shows this nicely.\n",
    "\n",
    "We now need to transform this output to one penguin species per sample.\n",
    "We can do this by looking for the index of highest valued output and converting that\n",
    "to the corresponding species.\n",
    "Pandas dataframes have the `idxmax` function, which will do exactly that."
   ]
  },
  {
   "cell_type": "code",
   "execution_count": null,
   "id": "1c7f32e5",
   "metadata": {},
   "outputs": [],
   "source": [
    "predicted_species = prediction.idxmax(axis=\"columns\")\n",
    "predicted_species"
   ]
  },
  {
   "cell_type": "markdown",
   "id": "20040187",
   "metadata": {},
   "source": [
    "::: instructor\n",
    "## BREAK\n",
    "This is a good time for switching instructor and/or a break.\n",
    ":::\n",
    "\n",
    "## 8. Measuring performance\n",
    "Now that we have a trained neural network it is important to assess how well it performs.\n",
    "We want to know how well it will perform in a realistic prediction scenario, measuring\n",
    "performance will also come back when refining the model.\n",
    "\n",
    "We have created a test set (i.e. y_test) during the data preparation stage which we will use\n",
    "now to create a confusion matrix.\n",
    "\n",
    "### Confusion matrix\n",
    "With the predicted species we can now create a confusion matrix and display it using seaborn.\n",
    "\n",
    "A confusion matrix is an `N x N` matrix used for evaluating the performance of a classification model, where `N` is the number of target classes.\n",
    "The matrix compares the actual target values with those predicted from the classification model, which gives a holistic view of how well the classification model is performing.\n",
    "\n",
    "To create a confusion matrix we will use another convenience function from sklearn called `confusion_matrix`.\n",
    "This function takes as a first parameter the true labels of the test set.\n",
    "We can get these by using the `idxmax` method on the y_test dataframe.\n",
    "The second parameter is the predicted labels which we did above."
   ]
  },
  {
   "cell_type": "code",
   "execution_count": null,
   "id": "337055c6",
   "metadata": {},
   "outputs": [],
   "source": [
    "from sklearn.metrics import confusion_matrix\n",
    "\n",
    "true_species = y_test.idxmax(axis=\"columns\")\n",
    "\n",
    "matrix = confusion_matrix(true_species, predicted_species)\n",
    "print(matrix)"
   ]
  },
  {
   "cell_type": "markdown",
   "id": "1af23ce8",
   "metadata": {},
   "source": [
    "Unfortunately, this matrix is not immediately understandable. Its not clear which column and which row corresponds to which species.\n",
    "So let's convert it to a Pandas Dataframe with its index and columns set to the species as follows:"
   ]
  },
  {
   "cell_type": "code",
   "execution_count": null,
   "id": "d473866f",
   "metadata": {},
   "outputs": [],
   "source": [
    "# Convert to a pandas dataframe\n",
    "confusion_df = pd.DataFrame(matrix, index=y_test.columns.values, columns=y_test.columns.values)\n",
    "\n",
    "# Set the names of the x and y axis, this helps with the readability of the heatmap.\n",
    "confusion_df.index.name = 'True Label'\n",
    "confusion_df.columns.name = 'Predicted Label'\n",
    "confusion_df.head()"
   ]
  },
  {
   "cell_type": "markdown",
   "id": "75d62a7f",
   "metadata": {},
   "source": [
    "We can then use the `heatmap` function from seaborn to create a nice visualization of\n",
    "the confusion matrix.\n",
    "The `annot=True` parameter here will put the numbers from the confusion matrix in\n",
    "the heatmap."
   ]
  },
  {
   "cell_type": "code",
   "execution_count": null,
   "id": "89ffc836",
   "metadata": {},
   "outputs": [],
   "source": [
    "sns.heatmap(confusion_df, annot=True)"
   ]
  },
  {
   "cell_type": "markdown",
   "id": "536acf27",
   "metadata": {},
   "source": [
    "Here are more explanations of this confusion matrix and the classification model.\n",
    "\n",
    "- The first row: There are 30 Adelie penguins in the test data, with 22 identified as Adelie (valid), 8 being identified as Gentoo (invalid), and no Adelie is identified as Chinstrap.\n",
    "- The second row: There are 14 Chinstrap pengunis in the test data, with 5 identified as Adelie (invalid), none are correctly recognized as Chinstrap, and 9 Chinstraps are identified as Gentoo (invalid).\n",
    "- The third row: There are 25 Gentoo penguins in the test data, with 6 identified as Adelie (invalid), none being recognized as Chinstrap (invalid), and 19 Gentoos are identified as Gentoo (valid).\n",
    "\n",
    "## Challenge: Confusion Matrix\n",
    "\n",
    "Measure the performance of the neural network you trained and\n",
    "visualize a confusion matrix.\n",
    "\n",
    "- Did the neural network perform well on the test set?\n",
    "- Did you expect this from the training loss you saw?\n",
    "- What could we do to improve the performance?:::\n",
    "\n",
    "## 9. Refine the model\n",
    "As we discussed before the design and training of a neural network comes with\n",
    "many hyperparameter and model architecture choices.\n",
    "We will go into more depth of these choices in later episodes.\n",
    "For now it is important to realize that the parameters we chose were\n",
    "somewhat arbitrary and more careful consideration needs to be taken to\n",
    "pick hyperparameter values. \n",
    "\n",
    "\n",
    "## 10. Share model\n",
    "It is very useful to be able to use the trained neural network at a later\n",
    "stage without having to retrain it.\n",
    "This can be done by using the `save` method of the model.\n",
    "It takes a string as a parameter which is the path of a directory where the model is stored."
   ]
  },
  {
   "cell_type": "code",
   "execution_count": null,
   "id": "2ea56edf",
   "metadata": {},
   "outputs": [],
   "source": [
    "model.save('my_first_model.keras')"
   ]
  },
  {
   "cell_type": "markdown",
   "id": "d4530677",
   "metadata": {},
   "source": [
    "This saved model can be loaded again by using the `load_model` method as follows:"
   ]
  },
  {
   "cell_type": "code",
   "execution_count": null,
   "id": "76dc5dfd",
   "metadata": {},
   "outputs": [],
   "source": [
    "pretrained_model = keras.models.load_model('my_first_model.keras')"
   ]
  },
  {
   "cell_type": "markdown",
   "id": "fabc91c1",
   "metadata": {},
   "source": [
    "This loaded model can be used as before to predict."
   ]
  },
  {
   "cell_type": "code",
   "execution_count": null,
   "id": "8c14a916",
   "metadata": {},
   "outputs": [],
   "source": [
    "# use the pretrained model here\n",
    "y_pretrained_pred = pretrained_model.predict(X_test)\n",
    "pretrained_prediction = pd.DataFrame(y_pretrained_pred, columns=target.columns.values)\n",
    "\n",
    "# idxmax will select the column for each row with the highest value\n",
    "pretrained_predicted_species = pretrained_prediction.idxmax(axis=\"columns\")\n",
    "print(pretrained_predicted_species)"
   ]
  },
  {
   "cell_type": "markdown",
   "id": "d2010967",
   "metadata": {},
   "source": [
    "## Keypoints\n",
    "\n",
    "- The deep learning workflow is a useful tool to structure your approach, it helps to make sure you do not forget any important steps.\n",
    "- Exploring the data is an important step to familiarize yourself with the problem and to help you determine the relavent inputs and outputs.\n",
    "- One-hot encoding is a preprocessing step to prepare labels for classification in Keras.\n",
    "- A fully connected layer is a layer which has connections to all neurons in the previous and subsequent layers.\n",
    "- keras.layers.Dense is an implementation of a fully connected layer, you can set the number of neurons in the layer and the activation function used.\n",
    "- To train a neural network with Keras we need to first define the network using layers and the Model class. Then we can train it using the model.fit function.\n",
    "- Plotting the loss curve can be used to identify and troubleshoot the training process.\n",
    "- The loss curve on the training set does not provide any information on how well a network performs in a real setting.\n",
    "- Creating a confusion matrix with results from a test set gives better insight into the network's performance.::::"
   ]
  }
 ],
 "metadata": {},
 "nbformat": 4,
 "nbformat_minor": 5
}
