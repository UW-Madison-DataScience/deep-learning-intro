{
 "cells": [
  {
   "cell_type": "code",
   "execution_count": 146,
   "id": "9b0dcc39-01ad-4527-b97a-e3677eeb8486",
   "metadata": {},
   "outputs": [],
   "source": [
    "from PIL import Image\n",
    "import pandas as pd\n",
    "import pathlib\n",
    "import numpy as np\n",
    "import matplotlib.pyplot as plt\n",
    "from tensorflow import keras"
   ]
  },
  {
   "cell_type": "markdown",
   "id": "d15d3258-f95d-4565-b23d-3b149edffa21",
   "metadata": {},
   "source": [
    "## Checkout an image"
   ]
  },
  {
   "cell_type": "code",
   "execution_count": 36,
   "id": "ff43b476-f73d-4876-94ec-5b2ecb3c9583",
   "metadata": {},
   "outputs": [],
   "source": [
    "filepath = 'data/dataset_dollarstreet/assets/5d4bde20cf0b3a0f3f3359fb/5d4bde20cf0b3a0f3f3359fb.jpg'"
   ]
  },
  {
   "cell_type": "code",
   "execution_count": 37,
   "id": "83709264-b73c-43c7-b9ae-98c7d11f568c",
   "metadata": {},
   "outputs": [],
   "source": [
    "image = Image.open(filepath)"
   ]
  },
  {
   "cell_type": "code",
   "execution_count": 38,
   "id": "2ae196eb-ff85-4b77-9d5f-9bc7d40c31c4",
   "metadata": {},
   "outputs": [],
   "source": [
    "image.show()"
   ]
  },
  {
   "cell_type": "code",
   "execution_count": 39,
   "id": "b2034f32-a686-4091-8e7e-df5710843e12",
   "metadata": {},
   "outputs": [
    {
     "data": {
      "text/plain": [
       "(1819, 1024)"
      ]
     },
     "execution_count": 39,
     "metadata": {},
     "output_type": "execute_result"
    }
   ],
   "source": [
    "image.size"
   ]
  },
  {
   "cell_type": "markdown",
   "id": "3850272d-faac-4ec4-a77e-d0cc814e46f2",
   "metadata": {},
   "source": [
    "## Prepare labels\n",
    "1. Only take examples with one imagenet_synonym label\n",
    "2. Use only examples with the 10 most frequently occuring labels"
   ]
  },
  {
   "cell_type": "code",
   "execution_count": 57,
   "id": "ccfd2827-c648-4778-8cbe-554645a990ba",
   "metadata": {},
   "outputs": [],
   "source": [
    "df = pd.read_csv('data/dataset_dollarstreet/images_v2_imagenet_test.csv', converters={'imagenet_synonyms': eval})"
   ]
  },
  {
   "cell_type": "code",
   "execution_count": 63,
   "id": "9f65836f-856c-4b9d-a0d9-b2ea82bab15a",
   "metadata": {},
   "outputs": [],
   "source": [
    "# Take only rows where we have one label (to simplify the problem to multiclass not multilabel classification)\n",
    "df_selection = df[df['imagenet_synonyms'].apply(len) == 1]"
   ]
  },
  {
   "cell_type": "code",
   "execution_count": 64,
   "id": "5e8c8bf6-48c5-446a-9e04-f8d8d80a47bb",
   "metadata": {},
   "outputs": [
    {
     "data": {
      "text/plain": [
       "4308"
      ]
     },
     "execution_count": 64,
     "metadata": {},
     "output_type": "execute_result"
    }
   ],
   "source": [
    "len(df)"
   ]
  },
  {
   "cell_type": "code",
   "execution_count": 65,
   "id": "9c6106ee-d315-4766-bef6-e1db468c8997",
   "metadata": {},
   "outputs": [
    {
     "data": {
      "text/plain": [
       "3772"
      ]
     },
     "execution_count": 65,
     "metadata": {},
     "output_type": "execute_result"
    }
   ],
   "source": [
    "len(df_selection)"
   ]
  },
  {
   "cell_type": "code",
   "execution_count": 66,
   "id": "b6ff20f2-1186-4a62-9268-b1b10bef204c",
   "metadata": {},
   "outputs": [
    {
     "name": "stderr",
     "output_type": "stream",
     "text": [
      "/var/folders/ff/lzvrl_f53bl3fwlbvnsw4f840000gn/T/ipykernel_9961/1875909903.py:1: SettingWithCopyWarning: \n",
      "A value is trying to be set on a copy of a slice from a DataFrame.\n",
      "Try using .loc[row_indexer,col_indexer] = value instead\n",
      "\n",
      "See the caveats in the documentation: https://pandas.pydata.org/pandas-docs/stable/user_guide/indexing.html#returning-a-view-versus-a-copy\n",
      "  df_selection['label'] = df_selection['imagenet_synonyms'].apply(lambda x: x[0])\n"
     ]
    }
   ],
   "source": [
    "df_selection['label'] = df_selection['imagenet_synonyms'].apply(lambda x: x[0])"
   ]
  },
  {
   "cell_type": "code",
   "execution_count": 75,
   "id": "faac88c3-322f-4cda-bd13-c72189f7620d",
   "metadata": {},
   "outputs": [],
   "source": [
    "df_10 = df_selection[df_selection['label'].isin(df_selection['label'].value_counts()[:10].index)]"
   ]
  },
  {
   "cell_type": "markdown",
   "id": "69cb9656-5a8d-4910-9a6a-c810c9cb6247",
   "metadata": {},
   "source": [
    "## Prepare images\n",
    "1. Downscale to 128 x 128 pixels\n",
    "2. Store as numpy array"
   ]
  },
  {
   "cell_type": "code",
   "execution_count": 131,
   "id": "d89cfe5d-a357-43d8-89d8-396672cb00b3",
   "metadata": {},
   "outputs": [],
   "source": [
    "images_matrix = np.zeros((len(df_10), 128, 128, 3), dtype='int32')\n",
    "for i, (_, row) in enumerate(df_10[['label', 'imageRelPath']].iterrows()):\n",
    "    filepath = pathlib.Path('data/dataset_dollarstreet/') / row['imageRelPath']\n",
    "    image = Image.open(filepath)\n",
    "    image = image.resize((128, 128))\n",
    "    data = np.array(image, dtype='int32')\n",
    "    images_matrix[i, :, :, :] = data"
   ]
  },
  {
   "cell_type": "markdown",
   "id": "a74dcdae-a4d3-49da-89ac-af1213fa7772",
   "metadata": {},
   "source": [
    "## Prepare data for training"
   ]
  },
  {
   "cell_type": "code",
   "execution_count": 143,
   "id": "294082fd-9cf4-4c64-82ab-0788ee2478d5",
   "metadata": {},
   "outputs": [],
   "source": [
    "from sklearn.model_selection import train_test_split\n",
    "train_images, val_images, train_labels, val_labels = train_test_split(images_matrix, df_10['label'].reset_index(drop=True), stratify=df_10['label'])"
   ]
  },
  {
   "cell_type": "code",
   "execution_count": 144,
   "id": "1d132fa4-a717-429e-a651-6001357a4c6e",
   "metadata": {},
   "outputs": [],
   "source": [
    "train_images = train_images / 255\n",
    "val_images = val_images / 255"
   ]
  },
  {
   "cell_type": "code",
   "execution_count": 159,
   "id": "19b63751-f53e-4acd-bbd5-aa06714d155f",
   "metadata": {},
   "outputs": [],
   "source": [
    "from sklearn.preprocessing import LabelEncoder\n",
    "encoder = LabelEncoder().fit(train_labels)\n",
    "train_labels = encoder.transform(train_labels)\n",
    "val_labels = encoder.transform(val_labels)"
   ]
  },
  {
   "cell_type": "code",
   "execution_count": 205,
   "id": "384630e6-d3e6-4d88-8741-8d692c934126",
   "metadata": {},
   "outputs": [
    {
     "data": {
      "text/html": [
       "<div>\n",
       "<style scoped>\n",
       "    .dataframe tbody tr th:only-of-type {\n",
       "        vertical-align: middle;\n",
       "    }\n",
       "\n",
       "    .dataframe tbody tr th {\n",
       "        vertical-align: top;\n",
       "    }\n",
       "\n",
       "    .dataframe thead th {\n",
       "        text-align: right;\n",
       "    }\n",
       "</style>\n",
       "<table border=\"1\" class=\"dataframe\">\n",
       "  <thead>\n",
       "    <tr style=\"text-align: right;\">\n",
       "      <th></th>\n",
       "      <th>label</th>\n",
       "      <th>index</th>\n",
       "    </tr>\n",
       "  </thead>\n",
       "  <tbody>\n",
       "    <tr>\n",
       "      <th>0</th>\n",
       "      <td>day bed</td>\n",
       "      <td>0</td>\n",
       "    </tr>\n",
       "    <tr>\n",
       "      <th>1</th>\n",
       "      <td>dishrag</td>\n",
       "      <td>1</td>\n",
       "    </tr>\n",
       "    <tr>\n",
       "      <th>2</th>\n",
       "      <td>plate</td>\n",
       "      <td>2</td>\n",
       "    </tr>\n",
       "    <tr>\n",
       "      <th>3</th>\n",
       "      <td>running shoe</td>\n",
       "      <td>3</td>\n",
       "    </tr>\n",
       "    <tr>\n",
       "      <th>4</th>\n",
       "      <td>soap dispenser</td>\n",
       "      <td>4</td>\n",
       "    </tr>\n",
       "    <tr>\n",
       "      <th>5</th>\n",
       "      <td>street sign</td>\n",
       "      <td>5</td>\n",
       "    </tr>\n",
       "    <tr>\n",
       "      <th>6</th>\n",
       "      <td>table lamp</td>\n",
       "      <td>6</td>\n",
       "    </tr>\n",
       "    <tr>\n",
       "      <th>7</th>\n",
       "      <td>tile roof</td>\n",
       "      <td>7</td>\n",
       "    </tr>\n",
       "    <tr>\n",
       "      <th>8</th>\n",
       "      <td>toilet seat</td>\n",
       "      <td>8</td>\n",
       "    </tr>\n",
       "    <tr>\n",
       "      <th>9</th>\n",
       "      <td>washing machine</td>\n",
       "      <td>9</td>\n",
       "    </tr>\n",
       "  </tbody>\n",
       "</table>\n",
       "</div>"
      ],
      "text/plain": [
       "             label  index\n",
       "0          day bed      0\n",
       "1          dishrag      1\n",
       "2            plate      2\n",
       "3     running shoe      3\n",
       "4   soap dispenser      4\n",
       "5      street sign      5\n",
       "6       table lamp      6\n",
       "7        tile roof      7\n",
       "8      toilet seat      8\n",
       "9  washing machine      9"
      ]
     },
     "execution_count": 205,
     "metadata": {},
     "output_type": "execute_result"
    }
   ],
   "source": [
    "pd.DataFrame({'label': encoder.classes_, 'index': encoder.transform(encoder.classes_)})"
   ]
  },
  {
   "cell_type": "markdown",
   "id": "8a350942-6d03-4df7-b3b7-c670fe949e58",
   "metadata": {},
   "source": [
    "## Naive CNN without dropout\n",
    "Model is overfitting a lot and best val accuracy is around 0.3, better than chance (around 0.1) but not great"
   ]
  },
  {
   "cell_type": "code",
   "execution_count": 217,
   "id": "9195832d-813f-47a7-aa7a-6d25c8fb7936",
   "metadata": {},
   "outputs": [
    {
     "name": "stdout",
     "output_type": "stream",
     "text": [
      "Model: \"dollar_street_model\"\n",
      "_________________________________________________________________\n",
      " Layer (type)                Output Shape              Param #   \n",
      "=================================================================\n",
      " input_19 (InputLayer)       [(None, 128, 128, 3)]     0         \n",
      "                                                                 \n",
      " conv2d_32 (Conv2D)          (None, 126, 126, 50)      1400      \n",
      "                                                                 \n",
      " max_pooling2d_24 (MaxPooli  (None, 63, 63, 50)        0         \n",
      " ng2D)                                                           \n",
      "                                                                 \n",
      " conv2d_33 (Conv2D)          (None, 61, 61, 50)        22550     \n",
      "                                                                 \n",
      " max_pooling2d_25 (MaxPooli  (None, 30, 30, 50)        0         \n",
      " ng2D)                                                           \n",
      "                                                                 \n",
      " flatten_26 (Flatten)        (None, 45000)             0         \n",
      "                                                                 \n",
      " dense_64 (Dense)            (None, 50)                2250050   \n",
      "                                                                 \n",
      " dense_65 (Dense)            (None, 10)                510       \n",
      "                                                                 \n",
      "=================================================================\n",
      "Total params: 2274510 (8.68 MB)\n",
      "Trainable params: 2274510 (8.68 MB)\n",
      "Non-trainable params: 0 (0.00 Byte)\n",
      "_________________________________________________________________\n"
     ]
    }
   ],
   "source": [
    "def create_nn():\n",
    "    inputs = keras.Input(shape=train_images.shape[1:])\n",
    "    x = keras.layers.Conv2D(50, (3,3), activation='relu')(inputs)\n",
    "    x = keras.layers.MaxPooling2D((2,2))(x) # a new maxpooling layer\n",
    "    x = keras.layers.Conv2D(50, (3,3), activation='relu')(x)\n",
    "    x = keras.layers.MaxPooling2D((2,2))(x) # a new maxpooling layer (same as maxpool)\n",
    "    x = keras.layers.Flatten()(x)\n",
    "    x = keras.layers.Dense(50, activation='relu')(x) # a new Dense layer\n",
    "    outputs = keras.layers.Dense(10)(x)\n",
    "\n",
    "    model = keras.Model(inputs=inputs, outputs=outputs, name=\"dollar_street_model\")\n",
    "    return model\n",
    "\n",
    "model = create_nn()\n",
    "model.summary()"
   ]
  },
  {
   "cell_type": "code",
   "execution_count": 218,
   "id": "82c30f3f-438f-4e3a-b762-590afa76cb27",
   "metadata": {},
   "outputs": [],
   "source": [
    "def compile_model(model):\n",
    "    model.compile(optimizer='adam',\n",
    "                  loss=keras.losses.SparseCategoricalCrossentropy(from_logits=True),\n",
    "                  metrics=['accuracy'])\n",
    "compile_model(model)"
   ]
  },
  {
   "cell_type": "code",
   "execution_count": 219,
   "id": "0d58b177-db1e-4034-9a0e-5c2c9ecb70ce",
   "metadata": {},
   "outputs": [
    {
     "name": "stdout",
     "output_type": "stream",
     "text": [
      "Epoch 1/10\n",
      "28/28 [==============================] - 3s 114ms/step - loss: 2.3804 - accuracy: 0.1310 - val_loss: 2.2855 - val_accuracy: 0.1570\n",
      "Epoch 2/10\n",
      "28/28 [==============================] - 3s 114ms/step - loss: 2.2500 - accuracy: 0.1800 - val_loss: 2.2483 - val_accuracy: 0.1911\n",
      "Epoch 3/10\n",
      "28/28 [==============================] - 3s 118ms/step - loss: 2.1830 - accuracy: 0.1925 - val_loss: 2.2016 - val_accuracy: 0.2184\n",
      "Epoch 4/10\n",
      "28/28 [==============================] - 3s 115ms/step - loss: 2.0654 - accuracy: 0.2631 - val_loss: 2.1950 - val_accuracy: 0.2355\n",
      "Epoch 5/10\n",
      "28/28 [==============================] - 3s 113ms/step - loss: 1.9060 - accuracy: 0.3303 - val_loss: 2.2142 - val_accuracy: 0.2662\n",
      "Epoch 6/10\n",
      "28/28 [==============================] - 3s 118ms/step - loss: 1.5860 - accuracy: 0.4624 - val_loss: 2.2695 - val_accuracy: 0.2457\n",
      "Epoch 7/10\n",
      "28/28 [==============================] - 3s 114ms/step - loss: 1.2410 - accuracy: 0.5763 - val_loss: 2.3153 - val_accuracy: 0.2526\n",
      "Epoch 8/10\n",
      "28/28 [==============================] - 3s 115ms/step - loss: 0.9163 - accuracy: 0.7358 - val_loss: 2.6869 - val_accuracy: 0.2594\n",
      "Epoch 9/10\n",
      "28/28 [==============================] - 3s 114ms/step - loss: 0.5726 - accuracy: 0.8405 - val_loss: 2.8756 - val_accuracy: 0.2662\n",
      "Epoch 10/10\n",
      "28/28 [==============================] - 3s 112ms/step - loss: 0.3562 - accuracy: 0.9191 - val_loss: 3.4398 - val_accuracy: 0.2560\n"
     ]
    }
   ],
   "source": [
    "history = model.fit(train_images, train_labels, epochs=10,\n",
    "                    validation_data=(val_images, val_labels))"
   ]
  },
  {
   "cell_type": "code",
   "execution_count": 220,
   "id": "ce6e8be0-a559-4adc-8934-9275f681b9f0",
   "metadata": {},
   "outputs": [
    {
     "data": {
      "image/png": "[encoded data removed]",
      "text/plain": [
       "<Figure size 640x480 with 1 Axes>"
      ]
     },
     "metadata": {},
     "output_type": "display_data"
    }
   ],
   "source": [
    "import seaborn as sns\n",
    "import matplotlib.pyplot as plt\n",
    "import pandas as pd\n",
    "\n",
    "def plot_history(history, metrics):\n",
    "    \"\"\"\n",
    "    Plot the training history\n",
    "\n",
    "    Args:\n",
    "        history (keras History object that is returned by model.fit())\n",
    "        metrics(str, list): Metric or a list of metrics to plot\n",
    "    \"\"\"\n",
    "    history_df = pd.DataFrame.from_dict(history.history)\n",
    "    sns.lineplot(data=history_df[metrics])\n",
    "    plt.xlabel(\"epochs\")\n",
    "    plt.ylabel(\"metric\")\n",
    "plot_history(history, ['accuracy', 'val_accuracy'])"
   ]
  },
  {
   "cell_type": "markdown",
   "id": "af09504b-3cfa-4e65-ae4e-95bc183d74c8",
   "metadata": {},
   "source": [
    "## Use dropout to counteract overfitting\n",
    "Less overfitting, but it does not really improve the score much..."
   ]
  },
  {
   "cell_type": "code",
   "execution_count": 221,
   "id": "511520e1-6946-4732-abff-03a77fa78d7a",
   "metadata": {},
   "outputs": [
    {
     "name": "stdout",
     "output_type": "stream",
     "text": [
      "Model: \"cifar_model\"\n",
      "_________________________________________________________________\n",
      " Layer (type)                Output Shape              Param #   \n",
      "=================================================================\n",
      " input_20 (InputLayer)       [(None, 128, 128, 3)]     0         \n",
      "                                                                 \n",
      " conv2d_34 (Conv2D)          (None, 126, 126, 50)      1400      \n",
      "                                                                 \n",
      " max_pooling2d_26 (MaxPooli  (None, 63, 63, 50)        0         \n",
      " ng2D)                                                           \n",
      "                                                                 \n",
      " conv2d_35 (Conv2D)          (None, 61, 61, 50)        22550     \n",
      "                                                                 \n",
      " max_pooling2d_27 (MaxPooli  (None, 30, 30, 50)        0         \n",
      " ng2D)                                                           \n",
      "                                                                 \n",
      " conv2d_36 (Conv2D)          (None, 28, 28, 50)        22550     \n",
      "                                                                 \n",
      " dropout_26 (Dropout)        (None, 28, 28, 50)        0         \n",
      "                                                                 \n",
      " flatten_27 (Flatten)        (None, 39200)             0         \n",
      "                                                                 \n",
      " dense_66 (Dense)            (None, 50)                1960050   \n",
      "                                                                 \n",
      " dense_67 (Dense)            (None, 10)                510       \n",
      "                                                                 \n",
      "=================================================================\n",
      "Total params: 2007060 (7.66 MB)\n",
      "Trainable params: 2007060 (7.66 MB)\n",
      "Non-trainable params: 0 (0.00 Byte)\n",
      "_________________________________________________________________\n"
     ]
    }
   ],
   "source": [
    "def create_nn_with_dropout():\n",
    "    inputs = keras.Input(shape=train_images.shape[1:])\n",
    "    x = keras.layers.Conv2D(50, (3, 3), activation='relu')(inputs)\n",
    "    x = keras.layers.MaxPooling2D((2, 2))(x)\n",
    "    x = keras.layers.Conv2D(50, (3, 3), activation='relu')(x)\n",
    "    x = keras.layers.MaxPooling2D((2, 2))(x)\n",
    "    x = keras.layers.Conv2D(50, (3, 3), activation='relu')(x)\n",
    "    x = keras.layers.Dropout(0.8)(x) # This is new!\n",
    "    x = keras.layers.Flatten()(x)\n",
    "    x = keras.layers.Dense(50, activation='relu')(x)\n",
    "    outputs = keras.layers.Dense(10)(x)\n",
    "    model = keras.Model(inputs=inputs, outputs=outputs, name=\"cifar_model\")\n",
    "    return model\n",
    "\n",
    "model_dropout = create_nn_with_dropout()\n",
    "model_dropout.summary()"
   ]
  },
  {
   "cell_type": "code",
   "execution_count": 222,
   "id": "105dfe60-32cc-4b29-a8cf-4fe970f49d74",
   "metadata": {},
   "outputs": [
    {
     "name": "stdout",
     "output_type": "stream",
     "text": [
      "Epoch 1/10\n",
      "28/28 [==============================] - 4s 129ms/step - loss: 2.3084 - accuracy: 0.1162 - val_loss: 2.2969 - val_accuracy: 0.1570\n",
      "Epoch 2/10\n",
      "28/28 [==============================] - 4s 128ms/step - loss: 2.2844 - accuracy: 0.1424 - val_loss: 2.2679 - val_accuracy: 0.1741\n",
      "Epoch 3/10\n",
      "28/28 [==============================] - 4s 129ms/step - loss: 2.2507 - accuracy: 0.1651 - val_loss: 2.2384 - val_accuracy: 0.1638\n",
      "Epoch 4/10\n",
      "28/28 [==============================] - 4s 126ms/step - loss: 2.2019 - accuracy: 0.2153 - val_loss: 2.2066 - val_accuracy: 0.1945\n",
      "Epoch 5/10\n",
      "28/28 [==============================] - 4s 129ms/step - loss: 2.1025 - accuracy: 0.2642 - val_loss: 2.1302 - val_accuracy: 0.2355\n",
      "Epoch 6/10\n",
      "28/28 [==============================] - 4s 129ms/step - loss: 1.8985 - accuracy: 0.3235 - val_loss: 2.1091 - val_accuracy: 0.2594\n",
      "Epoch 7/10\n",
      "28/28 [==============================] - 4s 127ms/step - loss: 1.7087 - accuracy: 0.4191 - val_loss: 2.1671 - val_accuracy: 0.3038\n",
      "Epoch 8/10\n",
      "28/28 [==============================] - 3s 125ms/step - loss: 1.4424 - accuracy: 0.5353 - val_loss: 2.1818 - val_accuracy: 0.2833\n",
      "Epoch 9/10\n",
      "28/28 [==============================] - 4s 129ms/step - loss: 1.2965 - accuracy: 0.5786 - val_loss: 2.5068 - val_accuracy: 0.3038\n",
      "Epoch 10/10\n",
      "28/28 [==============================] - 4s 128ms/step - loss: 0.9696 - accuracy: 0.6822 - val_loss: 2.6245 - val_accuracy: 0.3311\n"
     ]
    }
   ],
   "source": [
    "compile_model(model_dropout)\n",
    "\n",
    "history = model_dropout.fit(train_images, train_labels, epochs=10,\n",
    "                    validation_data=(val_images, val_labels))"
   ]
  },
  {
   "cell_type": "code",
   "execution_count": 223,
   "id": "b529deff-8a52-430a-9dab-0e5332b65d5e",
   "metadata": {},
   "outputs": [
    {
     "data": {
      "image/png": "[encoded data removed]",
      "text/plain": [
       "<Figure size 640x480 with 1 Axes>"
      ]
     },
     "metadata": {},
     "output_type": "display_data"
    }
   ],
   "source": [
    "plot_history(history, ['accuracy', 'val_accuracy'])"
   ]
  },
  {
   "cell_type": "markdown",
   "id": "ad115cdb-6c90-4909-ae4c-490828889ff4",
   "metadata": {},
   "source": [
    "## Use a pretrained neural network\n",
    "More than doubles the accuracy score!"
   ]
  },
  {
   "cell_type": "code",
   "execution_count": 209,
   "id": "6bf4e8ae-03af-4b7c-8ec7-a24e6925105b",
   "metadata": {},
   "outputs": [],
   "source": [
    "import tensorflow as tf\n",
    "\n",
    "# input tensor\n",
    "inputs = keras.Input(train_images.shape[1:])\n",
    "\n",
    "# upscale layer\n",
    "upscale = keras.layers.Lambda(lambda x: tf.image.resize_with_pad(x,\n",
    "                                                                  160,\n",
    "                                                                  160,\n",
    "                                                                  method=tf.image.ResizeMethod.BILINEAR))(inputs)"
   ]
  },
  {
   "cell_type": "code",
   "execution_count": 210,
   "id": "7eca6621-c238-4565-80c9-36136780506e",
   "metadata": {},
   "outputs": [
    {
     "data": {
      "text/plain": [
       "((878, 128, 128, 3), (878,))"
      ]
     },
     "execution_count": 210,
     "metadata": {},
     "output_type": "execute_result"
    }
   ],
   "source": [
    "train_images.shape, train_labels.shape"
   ]
  },
  {
   "cell_type": "code",
   "execution_count": 211,
   "id": "c128293e-f84f-43af-b93b-1bee1a403f57",
   "metadata": {},
   "outputs": [
    {
     "name": "stdout",
     "output_type": "stream",
     "text": [
      "Epoch 1/20\n",
      "28/28 [==============================] - 15s 466ms/step - loss: 2.7869 - accuracy: 0.1606 - val_loss: 2.3442 - val_accuracy: 0.2048\n",
      "Epoch 2/20\n",
      "28/28 [==============================] - 12s 441ms/step - loss: 2.2113 - accuracy: 0.2768 - val_loss: 1.8767 - val_accuracy: 0.3413\n",
      "Epoch 3/20\n",
      "28/28 [==============================] - 12s 429ms/step - loss: 1.9086 - accuracy: 0.3462 - val_loss: 1.6274 - val_accuracy: 0.4608\n",
      "Epoch 4/20\n",
      "28/28 [==============================] - 12s 430ms/step - loss: 1.7560 - accuracy: 0.4032 - val_loss: 1.4563 - val_accuracy: 0.5461\n",
      "Epoch 5/20\n",
      "28/28 [==============================] - 13s 458ms/step - loss: 1.6596 - accuracy: 0.4226 - val_loss: 1.3540 - val_accuracy: 0.5802\n",
      "Epoch 6/20\n",
      "28/28 [==============================] - 12s 439ms/step - loss: 1.4722 - accuracy: 0.4954 - val_loss: 1.3012 - val_accuracy: 0.6177\n",
      "Epoch 7/20\n",
      "28/28 [==============================] - 12s 440ms/step - loss: 1.3973 - accuracy: 0.5330 - val_loss: 1.2530 - val_accuracy: 0.6314\n",
      "Epoch 8/20\n",
      "28/28 [==============================] - 12s 425ms/step - loss: 1.2153 - accuracy: 0.5809 - val_loss: 1.1995 - val_accuracy: 0.6382\n",
      "Epoch 9/20\n",
      "28/28 [==============================] - 12s 433ms/step - loss: 1.1847 - accuracy: 0.6162 - val_loss: 1.1577 - val_accuracy: 0.6553\n",
      "Epoch 10/20\n",
      "28/28 [==============================] - 12s 443ms/step - loss: 1.1394 - accuracy: 0.6321 - val_loss: 1.1287 - val_accuracy: 0.6655\n",
      "Epoch 11/20\n",
      "28/28 [==============================] - 12s 438ms/step - loss: 1.0988 - accuracy: 0.6276 - val_loss: 1.0952 - val_accuracy: 0.6553\n",
      "Epoch 12/20\n",
      "28/28 [==============================] - 12s 430ms/step - loss: 1.0412 - accuracy: 0.6549 - val_loss: 1.0718 - val_accuracy: 0.6587\n",
      "Epoch 13/20\n",
      "28/28 [==============================] - 12s 434ms/step - loss: 0.9563 - accuracy: 0.6856 - val_loss: 1.0531 - val_accuracy: 0.6655\n",
      "Epoch 14/20\n",
      "28/28 [==============================] - 12s 444ms/step - loss: 0.8232 - accuracy: 0.7346 - val_loss: 1.0321 - val_accuracy: 0.6997\n",
      "Epoch 15/20\n",
      "28/28 [==============================] - 12s 435ms/step - loss: 0.8197 - accuracy: 0.7346 - val_loss: 1.0326 - val_accuracy: 0.6792\n",
      "Epoch 16/20\n",
      "28/28 [==============================] - 12s 431ms/step - loss: 0.8226 - accuracy: 0.7392 - val_loss: 1.0229 - val_accuracy: 0.6962\n",
      "Epoch 17/20\n",
      "28/28 [==============================] - 12s 425ms/step - loss: 0.7534 - accuracy: 0.7608 - val_loss: 1.0192 - val_accuracy: 0.6724\n",
      "Epoch 18/20\n",
      "28/28 [==============================] - 12s 443ms/step - loss: 0.7016 - accuracy: 0.7756 - val_loss: 1.0162 - val_accuracy: 0.6689\n",
      "Epoch 19/20\n",
      "28/28 [==============================] - 12s 427ms/step - loss: 0.6200 - accuracy: 0.8018 - val_loss: 1.0266 - val_accuracy: 0.6758\n",
      "Epoch 19: early stopping\n"
     ]
    }
   ],
   "source": [
    "# load base model\n",
    "base_model = keras.applications.DenseNet121(include_top=False,\n",
    "                                        weights='imagenet',\n",
    "                                        input_tensor=upscale,\n",
    "                                        input_shape=(160,160,3),\n",
    "                                        pooling='max')\n",
    "\n",
    "# set base model training off\n",
    "base_model.trainable = False\n",
    "\n",
    "# add top layers\n",
    "out = base_model.output\n",
    "out = keras.layers.Flatten()(out)\n",
    "out = keras.layers.BatchNormalization()(out)\n",
    "out = keras.layers.Dense(128, activation='relu')(out)\n",
    "out = keras.layers.Dropout(0.5)(out)\n",
    "out = keras.layers.BatchNormalization()(out)\n",
    "out = keras.layers.Dense(64, activation='relu')(out)\n",
    "out = keras.layers.Dropout(0.5)(out)\n",
    "out = keras.layers.Dense(10)(out)\n",
    "\n",
    "CALLBACKS = []\n",
    "CALLBACKS.append(keras.callbacks.EarlyStopping(monitor='val_accuracy',\n",
    "                                            verbose=1,\n",
    "                                            patience=5))\n",
    "\n",
    "optimizer = 'adam'\n",
    "\n",
    "# model compile\n",
    "model = keras.models.Model(inputs=inputs, outputs=out)\n",
    "\n",
    "model.compile(optimizer=optimizer,\n",
    "              loss=keras.losses.SparseCategoricalCrossentropy(from_logits=True),\n",
    "              metrics=['accuracy'])\n",
    "\n",
    "\n",
    "# train\n",
    "history = model.fit(x=train_images,\n",
    "                    y=train_labels,\n",
    "                    batch_size=32,\n",
    "                    epochs=20,\n",
    "                    callbacks=CALLBACKS,\n",
    "                    validation_data=(val_images, val_labels))"
   ]
  },
  {
   "cell_type": "code",
   "execution_count": 212,
   "id": "68a297b4-a4b6-4ea2-a711-8e52cb44a46b",
   "metadata": {},
   "outputs": [
    {
     "data": {
      "image/png": "[encoded data removed]",
      "text/plain": [
       "<Figure size 640x480 with 1 Axes>"
      ]
     },
     "metadata": {},
     "output_type": "display_data"
    }
   ],
   "source": [
    "plot_history(history, ['accuracy', 'val_accuracy'])"
   ]
  },
  {
   "cell_type": "markdown",
   "id": "b122930a-9195-4f5f-bf38-54b33233f635",
   "metadata": {},
   "source": [
    "## Compare with dense model\n",
    "Val accuracy only reaches 0.2, so clearly a CNN works better on this dataset!"
   ]
  },
  {
   "cell_type": "code",
   "execution_count": 202,
   "id": "d90a519b-53f7-490b-b14d-fed3d17ce428",
   "metadata": {},
   "outputs": [
    {
     "name": "stdout",
     "output_type": "stream",
     "text": [
      "Model: \"dense_model\"\n",
      "_________________________________________________________________\n",
      " Layer (type)                Output Shape              Param #   \n",
      "=================================================================\n",
      " input_15 (InputLayer)       [(None, 128, 128, 3)]     0         \n",
      "                                                                 \n",
      " flatten_22 (Flatten)        (None, 49152)             0         \n",
      "                                                                 \n",
      " dense_54 (Dense)            (None, 50)                2457650   \n",
      "                                                                 \n",
      " dense_55 (Dense)            (None, 50)                2550      \n",
      "                                                                 \n",
      " dense_56 (Dense)            (None, 10)                510       \n",
      "                                                                 \n",
      "=================================================================\n",
      "Total params: 2460710 (9.39 MB)\n",
      "Trainable params: 2460710 (9.39 MB)\n",
      "Non-trainable params: 0 (0.00 Byte)\n",
      "_________________________________________________________________\n"
     ]
    }
   ],
   "source": [
    "def create_dense_model():\n",
    "    inputs = keras.Input(shape=train_images.shape[1:])\n",
    "    x = keras.layers.Flatten()(inputs)\n",
    "    x = keras.layers.Dense(50, activation='relu')(x)\n",
    "    x = keras.layers.Dense(50, activation='relu')(x)\n",
    "    outputs = keras.layers.Dense(10)(x)\n",
    "    return keras.models.Model(inputs=inputs, outputs=outputs,\n",
    "                              name='dense_model')\n",
    "\n",
    "dense_model = create_dense_model()\n",
    "dense_model.summary()"
   ]
  },
  {
   "cell_type": "code",
   "execution_count": 203,
   "id": "543ff163-59f0-404e-9dc4-ef140bcd4cd5",
   "metadata": {
    "collapsed": true,
    "jupyter": {
     "outputs_hidden": true
    }
   },
   "outputs": [
    {
     "name": "stdout",
     "output_type": "stream",
     "text": [
      "Epoch 1/20\n",
      "28/28 [==============================] - 0s 7ms/step - loss: 5.0851 - accuracy: 0.1128 - val_loss: 2.4295 - val_accuracy: 0.1263\n",
      "Epoch 2/20\n",
      "28/28 [==============================] - 0s 4ms/step - loss: 2.3235 - accuracy: 0.1629 - val_loss: 2.2842 - val_accuracy: 0.1706\n",
      "Epoch 3/20\n",
      "28/28 [==============================] - 0s 4ms/step - loss: 2.2568 - accuracy: 0.1834 - val_loss: 2.3039 - val_accuracy: 0.1741\n",
      "Epoch 4/20\n",
      "28/28 [==============================] - 0s 4ms/step - loss: 2.2420 - accuracy: 0.1834 - val_loss: 2.2431 - val_accuracy: 0.1433\n",
      "Epoch 5/20\n",
      "28/28 [==============================] - 0s 4ms/step - loss: 2.2182 - accuracy: 0.1777 - val_loss: 2.2584 - val_accuracy: 0.1741\n",
      "Epoch 6/20\n",
      "28/28 [==============================] - 0s 5ms/step - loss: 2.2076 - accuracy: 0.1720 - val_loss: 2.3722 - val_accuracy: 0.1604\n",
      "Epoch 7/20\n",
      "28/28 [==============================] - 0s 4ms/step - loss: 2.2426 - accuracy: 0.1663 - val_loss: 2.2475 - val_accuracy: 0.1570\n",
      "Epoch 8/20\n",
      "28/28 [==============================] - 0s 4ms/step - loss: 2.2026 - accuracy: 0.1913 - val_loss: 2.2502 - val_accuracy: 0.1741\n",
      "Epoch 9/20\n",
      "28/28 [==============================] - 0s 4ms/step - loss: 2.1465 - accuracy: 0.2187 - val_loss: 2.2451 - val_accuracy: 0.1706\n",
      "Epoch 10/20\n",
      "28/28 [==============================] - 0s 4ms/step - loss: 2.1988 - accuracy: 0.1800 - val_loss: 2.2856 - val_accuracy: 0.1638\n",
      "Epoch 11/20\n",
      "28/28 [==============================] - 0s 4ms/step - loss: 2.2118 - accuracy: 0.1800 - val_loss: 2.2873 - val_accuracy: 0.1706\n",
      "Epoch 12/20\n",
      "28/28 [==============================] - 0s 4ms/step - loss: 2.2030 - accuracy: 0.1777 - val_loss: 2.2380 - val_accuracy: 0.1604\n",
      "Epoch 13/20\n",
      "28/28 [==============================] - 0s 4ms/step - loss: 2.2282 - accuracy: 0.1492 - val_loss: 2.2404 - val_accuracy: 0.1638\n",
      "Epoch 14/20\n",
      "28/28 [==============================] - 0s 4ms/step - loss: 2.2135 - accuracy: 0.1617 - val_loss: 2.2377 - val_accuracy: 0.1672\n",
      "Epoch 15/20\n",
      "28/28 [==============================] - 0s 4ms/step - loss: 2.1851 - accuracy: 0.1868 - val_loss: 2.2324 - val_accuracy: 0.1706\n",
      "Epoch 16/20\n",
      "28/28 [==============================] - 0s 4ms/step - loss: 2.1894 - accuracy: 0.1708 - val_loss: 2.2377 - val_accuracy: 0.1672\n",
      "Epoch 17/20\n",
      "28/28 [==============================] - 0s 4ms/step - loss: 2.2509 - accuracy: 0.1515 - val_loss: 2.2939 - val_accuracy: 0.1160\n",
      "Epoch 18/20\n",
      "28/28 [==============================] - 0s 4ms/step - loss: 2.2663 - accuracy: 0.1310 - val_loss: 2.2976 - val_accuracy: 0.1263\n",
      "Epoch 19/20\n",
      "28/28 [==============================] - 0s 4ms/step - loss: 2.2704 - accuracy: 0.1287 - val_loss: 2.2943 - val_accuracy: 0.1263\n",
      "Epoch 20/20\n",
      "28/28 [==============================] - 0s 4ms/step - loss: 2.2711 - accuracy: 0.1412 - val_loss: 2.3031 - val_accuracy: 0.1195\n"
     ]
    },
    {
     "data": {
      "image/png": "[encoded data removed]",
      "text/plain": [
       "<Figure size 640x480 with 1 Axes>"
      ]
     },
     "metadata": {},
     "output_type": "display_data"
    }
   ],
   "source": [
    "compile_model(dense_model)\n",
    "history = dense_model.fit(train_images, train_labels, epochs=20,\n",
    "                    validation_data=(val_images, val_labels))\n",
    "plot_history(history, ['accuracy', 'val_accuracy'])"
   ]
  },
  {
   "cell_type": "code",
   "execution_count": null,
   "id": "ef1e1a33-33cb-462f-b6d9-fcc251a9264a",
   "metadata": {},
   "outputs": [],
   "source": []
  }
 ],
 "metadata": {
  "kernelspec": {
   "display_name": "Python 3 (ipykernel)",
   "language": "python",
   "name": "python3"
  },
  "language_info": {
   "codemirror_mode": {
    "name": "ipython",
    "version": 3
   },
   "file_extension": ".py",
   "mimetype": "text/x-python",
   "name": "python",
   "nbconvert_exporter": "python",
   "pygments_lexer": "ipython3",
   "version": "3.11.7"
  }
 },
 "nbformat": 4,
 "nbformat_minor": 5
}
